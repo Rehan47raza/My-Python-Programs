{
 "cells": [
  {
   "cell_type": "code",
   "execution_count": 3,
   "id": "b193b96f",
   "metadata": {},
   "outputs": [
    {
     "data": {
      "text/html": [
       "<div>\n",
       "<style scoped>\n",
       "    .dataframe tbody tr th:only-of-type {\n",
       "        vertical-align: middle;\n",
       "    }\n",
       "\n",
       "    .dataframe tbody tr th {\n",
       "        vertical-align: top;\n",
       "    }\n",
       "\n",
       "    .dataframe thead th {\n",
       "        text-align: right;\n",
       "    }\n",
       "</style>\n",
       "<table border=\"1\" class=\"dataframe\">\n",
       "  <thead>\n",
       "    <tr style=\"text-align: right;\">\n",
       "      <th></th>\n",
       "      <th>ENo.</th>\n",
       "      <th>EName</th>\n",
       "      <th>Salary</th>\n",
       "      <th>DeptNo</th>\n",
       "      <th>Desig</th>\n",
       "    </tr>\n",
       "  </thead>\n",
       "  <tbody>\n",
       "    <tr>\n",
       "      <th>0</th>\n",
       "      <td>101</td>\n",
       "      <td>Arun</td>\n",
       "      <td>1000</td>\n",
       "      <td>901</td>\n",
       "      <td>ME</td>\n",
       "    </tr>\n",
       "    <tr>\n",
       "      <th>1</th>\n",
       "      <td>201</td>\n",
       "      <td>Binod</td>\n",
       "      <td>2000</td>\n",
       "      <td>902</td>\n",
       "      <td>CE</td>\n",
       "    </tr>\n",
       "    <tr>\n",
       "      <th>2</th>\n",
       "      <td>301</td>\n",
       "      <td>Chetan</td>\n",
       "      <td>3000</td>\n",
       "      <td>903</td>\n",
       "      <td>EE</td>\n",
       "    </tr>\n",
       "    <tr>\n",
       "      <th>3</th>\n",
       "      <td>401</td>\n",
       "      <td>Deepak</td>\n",
       "      <td>4000</td>\n",
       "      <td>904</td>\n",
       "      <td>CE</td>\n",
       "    </tr>\n",
       "    <tr>\n",
       "      <th>4</th>\n",
       "      <td>501</td>\n",
       "      <td>Eram</td>\n",
       "      <td>5000</td>\n",
       "      <td>905</td>\n",
       "      <td>AE</td>\n",
       "    </tr>\n",
       "  </tbody>\n",
       "</table>\n",
       "</div>"
      ],
      "text/plain": [
       "   ENo.   EName  Salary  DeptNo Desig\n",
       "0   101    Arun    1000     901    ME\n",
       "1   201   Binod    2000     902    CE\n",
       "2   301  Chetan    3000     903    EE\n",
       "3   401  Deepak    4000     904    CE\n",
       "4   501    Eram    5000     905    AE"
      ]
     },
     "execution_count": 3,
     "metadata": {},
     "output_type": "execute_result"
    }
   ],
   "source": [
    "#Create a data frame called DataFrame1. \n",
    "\n",
    "import pandas as pd\n",
    "DataFrame1=pd.DataFrame([[101,'Arun',1000,901,'ME'],[201,'Binod',2000,902,'CE'],\n",
    "                         [301,'Chetan',3000,903,'EE'],[401,'Deepak',4000,904,'CE'],\n",
    "                         [501,'Eram',5000,905,'AE']],\n",
    "                       columns=['ENo.','EName','Salary','DeptNo','Desig'])\n",
    "DataFrame1\n",
    "\n"
   ]
  },
  {
   "cell_type": "code",
   "execution_count": 9,
   "id": "40b0d27c",
   "metadata": {},
   "outputs": [
    {
     "data": {
      "text/html": [
       "<div>\n",
       "<style scoped>\n",
       "    .dataframe tbody tr th:only-of-type {\n",
       "        vertical-align: middle;\n",
       "    }\n",
       "\n",
       "    .dataframe tbody tr th {\n",
       "        vertical-align: top;\n",
       "    }\n",
       "\n",
       "    .dataframe thead th {\n",
       "        text-align: right;\n",
       "    }\n",
       "</style>\n",
       "<table border=\"1\" class=\"dataframe\">\n",
       "  <thead>\n",
       "    <tr style=\"text-align: right;\">\n",
       "      <th></th>\n",
       "      <th>ENo.</th>\n",
       "      <th>EName</th>\n",
       "      <th>Salary</th>\n",
       "      <th>DeptNo</th>\n",
       "      <th>Desig</th>\n",
       "    </tr>\n",
       "  </thead>\n",
       "  <tbody>\n",
       "    <tr>\n",
       "      <th>First_Student</th>\n",
       "      <td>101</td>\n",
       "      <td>Arun</td>\n",
       "      <td>1000</td>\n",
       "      <td>901</td>\n",
       "      <td>ME</td>\n",
       "    </tr>\n",
       "    <tr>\n",
       "      <th>Second_Student</th>\n",
       "      <td>201</td>\n",
       "      <td>Binod</td>\n",
       "      <td>2000</td>\n",
       "      <td>902</td>\n",
       "      <td>CE</td>\n",
       "    </tr>\n",
       "    <tr>\n",
       "      <th>Third_Student</th>\n",
       "      <td>301</td>\n",
       "      <td>Chetan</td>\n",
       "      <td>3000</td>\n",
       "      <td>903</td>\n",
       "      <td>EE</td>\n",
       "    </tr>\n",
       "    <tr>\n",
       "      <th>Fourth_Student</th>\n",
       "      <td>401</td>\n",
       "      <td>Deepak</td>\n",
       "      <td>4000</td>\n",
       "      <td>904</td>\n",
       "      <td>CE</td>\n",
       "    </tr>\n",
       "    <tr>\n",
       "      <th>Fifth_Student</th>\n",
       "      <td>501</td>\n",
       "      <td>Eram</td>\n",
       "      <td>5000</td>\n",
       "      <td>905</td>\n",
       "      <td>AE</td>\n",
       "    </tr>\n",
       "  </tbody>\n",
       "</table>\n",
       "</div>"
      ],
      "text/plain": [
       "                ENo.   EName  Salary  DeptNo Desig\n",
       "First_Student    101    Arun    1000     901    ME\n",
       "Second_Student   201   Binod    2000     902    CE\n",
       "Third_Student    301  Chetan    3000     903    EE\n",
       "Fourth_Student   401  Deepak    4000     904    CE\n",
       "Fifth_Student    501    Eram    5000     905    AE"
      ]
     },
     "execution_count": 9,
     "metadata": {},
     "output_type": "execute_result"
    }
   ],
   "source": [
    "#In the DataFrame1 defined in Q.No. 1, add appropriate column names to the columns. \n",
    "\n",
    "\n",
    "import pandas as pd\n",
    "DataFrame1=pd.DataFrame([[101,'Arun',1000,901,'ME'],[201,'Binod',2000,902,'CE'],\n",
    "                         [301,'Chetan',3000,903,'EE'],[401,'Deepak',4000,904,'CE'],\n",
    "                         [501,'Eram',5000,905,'AE']],\n",
    "                       columns=['ENo.','EName','Salary','DeptNo','Desig'],\n",
    "                        index=['First_Student','Second_Student','Third_Student','Fourth_Student','Fifth_Student'])\n",
    "\n",
    "\n",
    "DataFrame1\n",
    "\n"
   ]
  },
  {
   "cell_type": "code",
   "execution_count": 10,
   "id": "7ff8c994",
   "metadata": {},
   "outputs": [
    {
     "data": {
      "text/plain": [
       "3000.0"
      ]
     },
     "execution_count": 10,
     "metadata": {},
     "output_type": "execute_result"
    }
   ],
   "source": [
    "import pandas as pd\n",
    "DataFrame1=pd.DataFrame([[101,'Arun',1000,901,'ME'],[201,'Binod',2000,902,'CE'],\n",
    "                         [301,'Chetan',3000,903,'EE'],[401,'Deepak',4000,904,'CE'],\n",
    "                         [501,'Eram',5000,905,'AE']],\n",
    "                       columns=['ENo.','EName','Salary','DeptNo','Desig'],\n",
    "                        index=['First_Student','Second_Student','Third_Student','Fourth_Student','Fifth_Student'])\n",
    "\n",
    "\n",
    "DataFrame1\n",
    "DataFrame1.Salary.mean()"
   ]
  },
  {
   "cell_type": "code",
   "execution_count": 11,
   "id": "0054fc7e",
   "metadata": {},
   "outputs": [
    {
     "data": {
      "text/html": [
       "<div>\n",
       "<style scoped>\n",
       "    .dataframe tbody tr th:only-of-type {\n",
       "        vertical-align: middle;\n",
       "    }\n",
       "\n",
       "    .dataframe tbody tr th {\n",
       "        vertical-align: top;\n",
       "    }\n",
       "\n",
       "    .dataframe thead th {\n",
       "        text-align: right;\n",
       "    }\n",
       "</style>\n",
       "<table border=\"1\" class=\"dataframe\">\n",
       "  <thead>\n",
       "    <tr style=\"text-align: right;\">\n",
       "      <th></th>\n",
       "      <th>DeptNo</th>\n",
       "      <th>DeptName</th>\n",
       "      <th>location</th>\n",
       "    </tr>\n",
       "  </thead>\n",
       "  <tbody>\n",
       "    <tr>\n",
       "      <th>0</th>\n",
       "      <td>201</td>\n",
       "      <td>Civil</td>\n",
       "      <td>Mumbai</td>\n",
       "    </tr>\n",
       "    <tr>\n",
       "      <th>1</th>\n",
       "      <td>301</td>\n",
       "      <td>Mech</td>\n",
       "      <td>Delhi</td>\n",
       "    </tr>\n",
       "    <tr>\n",
       "      <th>2</th>\n",
       "      <td>401</td>\n",
       "      <td>Computer</td>\n",
       "      <td>Chenai</td>\n",
       "    </tr>\n",
       "    <tr>\n",
       "      <th>3</th>\n",
       "      <td>501</td>\n",
       "      <td>Electrical</td>\n",
       "      <td>kolkata</td>\n",
       "    </tr>\n",
       "    <tr>\n",
       "      <th>4</th>\n",
       "      <td>601</td>\n",
       "      <td>Electronics</td>\n",
       "      <td>Hyderabad</td>\n",
       "    </tr>\n",
       "  </tbody>\n",
       "</table>\n",
       "</div>"
      ],
      "text/plain": [
       "   DeptNo     DeptName   location\n",
       "0     201        Civil     Mumbai\n",
       "1     301         Mech      Delhi\n",
       "2     401     Computer     Chenai\n",
       "3     501   Electrical    kolkata\n",
       "4     601  Electronics  Hyderabad"
      ]
     },
     "execution_count": 11,
     "metadata": {},
     "output_type": "execute_result"
    }
   ],
   "source": [
    "#Create a dictionary called dept.\n",
    "\n",
    "import pandas as pd\n",
    "dept={'DeptNo':(201,301,401,501,601),'DeptName':('Civil','Mech','Computer','Electrical','Electronics'),\n",
    "     'location':('Mumbai','Delhi','Chenai','kolkata','Hyderabad')}\n",
    "\n",
    "\n",
    "DataFrame2=pd.DataFrame(dept)\n",
    "DataFrame2\n"
   ]
  },
  {
   "cell_type": "code",
   "execution_count": 34,
   "id": "3bf7cb5d",
   "metadata": {},
   "outputs": [
    {
     "data": {
      "text/html": [
       "<div>\n",
       "<style scoped>\n",
       "    .dataframe tbody tr th:only-of-type {\n",
       "        vertical-align: middle;\n",
       "    }\n",
       "\n",
       "    .dataframe tbody tr th {\n",
       "        vertical-align: top;\n",
       "    }\n",
       "\n",
       "    .dataframe thead th {\n",
       "        text-align: right;\n",
       "    }\n",
       "</style>\n",
       "<table border=\"1\" class=\"dataframe\">\n",
       "  <thead>\n",
       "    <tr style=\"text-align: right;\">\n",
       "      <th></th>\n",
       "      <th>Name</th>\n",
       "      <th>R1</th>\n",
       "      <th>R2</th>\n",
       "      <th>R3</th>\n",
       "    </tr>\n",
       "  </thead>\n",
       "  <tbody>\n",
       "    <tr>\n",
       "      <th>0</th>\n",
       "      <td>Dinesh</td>\n",
       "      <td>7800</td>\n",
       "      <td>6500.0</td>\n",
       "      <td>4590.0</td>\n",
       "    </tr>\n",
       "    <tr>\n",
       "      <th>1</th>\n",
       "      <td>Mahesh</td>\n",
       "      <td>8900</td>\n",
       "      <td>NaN</td>\n",
       "      <td>3790.0</td>\n",
       "    </tr>\n",
       "    <tr>\n",
       "      <th>2</th>\n",
       "      <td>Ramesh</td>\n",
       "      <td>10800</td>\n",
       "      <td>2300.0</td>\n",
       "      <td>NaN</td>\n",
       "    </tr>\n",
       "    <tr>\n",
       "      <th>3</th>\n",
       "      <td>Suresh</td>\n",
       "      <td>5600</td>\n",
       "      <td>6790.0</td>\n",
       "      <td>2300.0</td>\n",
       "    </tr>\n",
       "    <tr>\n",
       "      <th>4</th>\n",
       "      <td>Basha</td>\n",
       "      <td>7600</td>\n",
       "      <td>2300.0</td>\n",
       "      <td>2400.0</td>\n",
       "    </tr>\n",
       "  </tbody>\n",
       "</table>\n",
       "</div>"
      ],
      "text/plain": [
       "     Name     R1      R2      R3\n",
       "0  Dinesh   7800  6500.0  4590.0\n",
       "1  Mahesh   8900     NaN  3790.0\n",
       "2  Ramesh  10800  2300.0     NaN\n",
       "3  Suresh   5600  6790.0  2300.0\n",
       "4   Basha   7600  2300.0  2400.0"
      ]
     },
     "execution_count": 34,
     "metadata": {},
     "output_type": "execute_result"
    }
   ],
   "source": [
    "#Display the contents of DataFrame3.\n",
    "\n",
    "import pandas as pd\n",
    "DataFrame3=pd.read_csv('sales.csv',header=None,names=['Name','R1','R2','R3'])\n",
    "\n",
    "DataFrame3\n"
   ]
  },
  {
   "cell_type": "code",
   "execution_count": 44,
   "id": "e061cbbd",
   "metadata": {},
   "outputs": [
    {
     "data": {
      "text/html": [
       "<div>\n",
       "<style scoped>\n",
       "    .dataframe tbody tr th:only-of-type {\n",
       "        vertical-align: middle;\n",
       "    }\n",
       "\n",
       "    .dataframe tbody tr th {\n",
       "        vertical-align: top;\n",
       "    }\n",
       "\n",
       "    .dataframe thead th {\n",
       "        text-align: right;\n",
       "    }\n",
       "</style>\n",
       "<table border=\"1\" class=\"dataframe\">\n",
       "  <thead>\n",
       "    <tr style=\"text-align: right;\">\n",
       "      <th></th>\n",
       "      <th>Name</th>\n",
       "      <th>R1</th>\n",
       "      <th>R2</th>\n",
       "      <th>R3</th>\n",
       "    </tr>\n",
       "  </thead>\n",
       "  <tbody>\n",
       "    <tr>\n",
       "      <th>0</th>\n",
       "      <td>Dinesh</td>\n",
       "      <td>7800</td>\n",
       "      <td>6500.0</td>\n",
       "      <td>4590.0</td>\n",
       "    </tr>\n",
       "    <tr>\n",
       "      <th>1</th>\n",
       "      <td>Mahesh</td>\n",
       "      <td>8900</td>\n",
       "      <td>0.0</td>\n",
       "      <td>3790.0</td>\n",
       "    </tr>\n",
       "    <tr>\n",
       "      <th>2</th>\n",
       "      <td>Ramesh</td>\n",
       "      <td>10800</td>\n",
       "      <td>2300.0</td>\n",
       "      <td>0.0</td>\n",
       "    </tr>\n",
       "    <tr>\n",
       "      <th>3</th>\n",
       "      <td>Suresh</td>\n",
       "      <td>5600</td>\n",
       "      <td>6790.0</td>\n",
       "      <td>2300.0</td>\n",
       "    </tr>\n",
       "    <tr>\n",
       "      <th>4</th>\n",
       "      <td>Basha</td>\n",
       "      <td>7600</td>\n",
       "      <td>2300.0</td>\n",
       "      <td>2400.0</td>\n",
       "    </tr>\n",
       "  </tbody>\n",
       "</table>\n",
       "</div>"
      ],
      "text/plain": [
       "     Name     R1      R2      R3\n",
       "0  Dinesh   7800  6500.0  4590.0\n",
       "1  Mahesh   8900     0.0  3790.0\n",
       "2  Ramesh  10800  2300.0     0.0\n",
       "3  Suresh   5600  6790.0  2300.0\n",
       "4   Basha   7600  2300.0  2400.0"
      ]
     },
     "execution_count": 44,
     "metadata": {},
     "output_type": "execute_result"
    }
   ],
   "source": [
    "#demonstrate different methods of handling missing data in data frames. \n",
    "\n",
    "import pandas as pd\n",
    "DataFrame3=pd.read_csv('sales.csv',header=None,names=['Name','R1','R2','R3'])\n",
    "DataFrame3.isnull()\n",
    "df_zero=DataFrame3.fillna(0)\n",
    "\n",
    "df_zero\n",
    "\n"
   ]
  },
  {
   "cell_type": "code",
   "execution_count": 46,
   "id": "6e09fa11",
   "metadata": {},
   "outputs": [
    {
     "data": {
      "text/plain": [
       "0    6500.0\n",
       "1    4472.5\n",
       "2    2300.0\n",
       "3    6790.0\n",
       "4    2300.0\n",
       "Name: R2, dtype: float64"
      ]
     },
     "execution_count": 46,
     "metadata": {},
     "output_type": "execute_result"
    }
   ],
   "source": [
    "import pandas as pd\n",
    "DataFrame3=pd.read_csv('sales.csv',header=None,names=['Name','R1','R2','R3'])\n",
    "\n",
    "df_mean1=DataFrame3['R2'].fillna(DataFrame3['R2'].mean())\n",
    "\n",
    "df_mean1"
   ]
  },
  {
   "cell_type": "code",
   "execution_count": 47,
   "id": "f87dea9b",
   "metadata": {},
   "outputs": [
    {
     "data": {
      "text/plain": [
       "0    4590.0\n",
       "1    3790.0\n",
       "2    3270.0\n",
       "3    2300.0\n",
       "4    2400.0\n",
       "Name: R3, dtype: float64"
      ]
     },
     "execution_count": 47,
     "metadata": {},
     "output_type": "execute_result"
    }
   ],
   "source": [
    "import pandas as pd\n",
    "DataFrame3=pd.read_csv('sales.csv',header=None,names=['Name','R1','R2','R3'])\n",
    "df_mean2=DataFrame3['R3'].fillna(DataFrame3['R3'].mean())\n",
    "df_mean2"
   ]
  },
  {
   "cell_type": "code",
   "execution_count": 48,
   "id": "1510ea44",
   "metadata": {},
   "outputs": [
    {
     "data": {
      "text/html": [
       "<div>\n",
       "<style scoped>\n",
       "    .dataframe tbody tr th:only-of-type {\n",
       "        vertical-align: middle;\n",
       "    }\n",
       "\n",
       "    .dataframe tbody tr th {\n",
       "        vertical-align: top;\n",
       "    }\n",
       "\n",
       "    .dataframe thead th {\n",
       "        text-align: right;\n",
       "    }\n",
       "</style>\n",
       "<table border=\"1\" class=\"dataframe\">\n",
       "  <thead>\n",
       "    <tr style=\"text-align: right;\">\n",
       "      <th></th>\n",
       "      <th>Name</th>\n",
       "      <th>R1</th>\n",
       "      <th>R2</th>\n",
       "      <th>R3</th>\n",
       "    </tr>\n",
       "  </thead>\n",
       "  <tbody>\n",
       "    <tr>\n",
       "      <th>0</th>\n",
       "      <td>Dinesh</td>\n",
       "      <td>7800</td>\n",
       "      <td>6500.0</td>\n",
       "      <td>4590.0</td>\n",
       "    </tr>\n",
       "    <tr>\n",
       "      <th>3</th>\n",
       "      <td>Suresh</td>\n",
       "      <td>5600</td>\n",
       "      <td>6790.0</td>\n",
       "      <td>2300.0</td>\n",
       "    </tr>\n",
       "    <tr>\n",
       "      <th>4</th>\n",
       "      <td>Basha</td>\n",
       "      <td>7600</td>\n",
       "      <td>2300.0</td>\n",
       "      <td>2400.0</td>\n",
       "    </tr>\n",
       "  </tbody>\n",
       "</table>\n",
       "</div>"
      ],
      "text/plain": [
       "     Name    R1      R2      R3\n",
       "0  Dinesh  7800  6500.0  4590.0\n",
       "3  Suresh  5600  6790.0  2300.0\n",
       "4   Basha  7600  2300.0  2400.0"
      ]
     },
     "execution_count": 48,
     "metadata": {},
     "output_type": "execute_result"
    }
   ],
   "source": [
    "\n",
    "DataFrame3.dropna()"
   ]
  },
  {
   "cell_type": "code",
   "execution_count": 49,
   "id": "56c8c293",
   "metadata": {},
   "outputs": [
    {
     "data": {
      "text/html": [
       "<div>\n",
       "<style scoped>\n",
       "    .dataframe tbody tr th:only-of-type {\n",
       "        vertical-align: middle;\n",
       "    }\n",
       "\n",
       "    .dataframe tbody tr th {\n",
       "        vertical-align: top;\n",
       "    }\n",
       "\n",
       "    .dataframe thead th {\n",
       "        text-align: right;\n",
       "    }\n",
       "</style>\n",
       "<table border=\"1\" class=\"dataframe\">\n",
       "  <thead>\n",
       "    <tr style=\"text-align: right;\">\n",
       "      <th></th>\n",
       "      <th>Name</th>\n",
       "      <th>R1</th>\n",
       "    </tr>\n",
       "  </thead>\n",
       "  <tbody>\n",
       "    <tr>\n",
       "      <th>0</th>\n",
       "      <td>Dinesh</td>\n",
       "      <td>7800</td>\n",
       "    </tr>\n",
       "    <tr>\n",
       "      <th>1</th>\n",
       "      <td>Mahesh</td>\n",
       "      <td>8900</td>\n",
       "    </tr>\n",
       "    <tr>\n",
       "      <th>2</th>\n",
       "      <td>Ramesh</td>\n",
       "      <td>10800</td>\n",
       "    </tr>\n",
       "    <tr>\n",
       "      <th>3</th>\n",
       "      <td>Suresh</td>\n",
       "      <td>5600</td>\n",
       "    </tr>\n",
       "    <tr>\n",
       "      <th>4</th>\n",
       "      <td>Basha</td>\n",
       "      <td>7600</td>\n",
       "    </tr>\n",
       "  </tbody>\n",
       "</table>\n",
       "</div>"
      ],
      "text/plain": [
       "     Name     R1\n",
       "0  Dinesh   7800\n",
       "1  Mahesh   8900\n",
       "2  Ramesh  10800\n",
       "3  Suresh   5600\n",
       "4   Basha   7600"
      ]
     },
     "execution_count": 49,
     "metadata": {},
     "output_type": "execute_result"
    }
   ],
   "source": [
    "DataFrame3.dropna(axis=1)"
   ]
  },
  {
   "cell_type": "code",
   "execution_count": 56,
   "id": "579316d4",
   "metadata": {},
   "outputs": [
    {
     "data": {
      "text/html": [
       "<div>\n",
       "<style scoped>\n",
       "    .dataframe tbody tr th:only-of-type {\n",
       "        vertical-align: middle;\n",
       "    }\n",
       "\n",
       "    .dataframe tbody tr th {\n",
       "        vertical-align: top;\n",
       "    }\n",
       "\n",
       "    .dataframe thead th {\n",
       "        text-align: right;\n",
       "    }\n",
       "</style>\n",
       "<table border=\"1\" class=\"dataframe\">\n",
       "  <thead>\n",
       "    <tr style=\"text-align: right;\">\n",
       "      <th></th>\n",
       "      <th>EName</th>\n",
       "      <th>Salary</th>\n",
       "      <th>DeptNo</th>\n",
       "      <th>Desig</th>\n",
       "    </tr>\n",
       "    <tr>\n",
       "      <th>ENo.</th>\n",
       "      <th></th>\n",
       "      <th></th>\n",
       "      <th></th>\n",
       "      <th></th>\n",
       "    </tr>\n",
       "  </thead>\n",
       "  <tbody>\n",
       "    <tr>\n",
       "      <th>101</th>\n",
       "      <td>Arun</td>\n",
       "      <td>1000</td>\n",
       "      <td>901</td>\n",
       "      <td>ME</td>\n",
       "    </tr>\n",
       "    <tr>\n",
       "      <th>201</th>\n",
       "      <td>Binod</td>\n",
       "      <td>2000</td>\n",
       "      <td>902</td>\n",
       "      <td>CE</td>\n",
       "    </tr>\n",
       "    <tr>\n",
       "      <th>301</th>\n",
       "      <td>Chetan</td>\n",
       "      <td>3000</td>\n",
       "      <td>903</td>\n",
       "      <td>EE</td>\n",
       "    </tr>\n",
       "    <tr>\n",
       "      <th>401</th>\n",
       "      <td>Deepak</td>\n",
       "      <td>4000</td>\n",
       "      <td>904</td>\n",
       "      <td>CE</td>\n",
       "    </tr>\n",
       "    <tr>\n",
       "      <th>501</th>\n",
       "      <td>Eram</td>\n",
       "      <td>5000</td>\n",
       "      <td>905</td>\n",
       "      <td>AE</td>\n",
       "    </tr>\n",
       "  </tbody>\n",
       "</table>\n",
       "</div>"
      ],
      "text/plain": [
       "       EName  Salary  DeptNo Desig\n",
       "ENo.                              \n",
       "101     Arun    1000     901    ME\n",
       "201    Binod    2000     902    CE\n",
       "301   Chetan    3000     903    EE\n",
       "401   Deepak    4000     904    CE\n",
       "501     Eram    5000     905    AE"
      ]
     },
     "execution_count": 56,
     "metadata": {},
     "output_type": "execute_result"
    }
   ],
   "source": [
    "#From DataFrame1 create a new data frame called DataFrame4\n",
    "\n",
    "import pandas as pd\n",
    "DataFrame1=pd.DataFrame([[101,'Arun',1000,901,'ME'],[201,'Binod',2000,902,'CE'],\n",
    "                         [301,'Chetan',3000,903,'EE'],[401,'Deepak',4000,904,'CE'],\n",
    "                         [501,'Eram',5000,905,'AE']],\n",
    "                       columns=['ENo.','EName','Salary','DeptNo','Desig'],\n",
    "                        index=['First_Student','Second_Student','Third_Student','Fourth_Student','Fifth_Student'])\n",
    "\n",
    "\n",
    "\n",
    "\n",
    "DataFrame4=DataFrame1.set_index('ENo.',inplace=True)\n",
    "\n",
    "DataFrame1\n"
   ]
  },
  {
   "cell_type": "code",
   "execution_count": 58,
   "id": "0a4b4d50",
   "metadata": {},
   "outputs": [
    {
     "data": {
      "text/plain": [
       "'EE'"
      ]
     },
     "execution_count": 58,
     "metadata": {},
     "output_type": "execute_result"
    }
   ],
   "source": [
    "#data from third row and fourth column\n",
    "\n",
    "DataFrame1.iloc[2,3]"
   ]
  },
  {
   "cell_type": "code",
   "execution_count": 60,
   "id": "fab65da5",
   "metadata": {},
   "outputs": [
    {
     "data": {
      "text/plain": [
       "'EE'"
      ]
     },
     "execution_count": 60,
     "metadata": {},
     "output_type": "execute_result"
    }
   ],
   "source": [
    "DataFrame1.loc[301,'Desig']\n"
   ]
  },
  {
   "cell_type": "code",
   "execution_count": 65,
   "id": "7740bc52",
   "metadata": {},
   "outputs": [
    {
     "data": {
      "text/html": [
       "<div>\n",
       "<style scoped>\n",
       "    .dataframe tbody tr th:only-of-type {\n",
       "        vertical-align: middle;\n",
       "    }\n",
       "\n",
       "    .dataframe tbody tr th {\n",
       "        vertical-align: top;\n",
       "    }\n",
       "\n",
       "    .dataframe thead th {\n",
       "        text-align: right;\n",
       "    }\n",
       "</style>\n",
       "<table border=\"1\" class=\"dataframe\">\n",
       "  <thead>\n",
       "    <tr style=\"text-align: right;\">\n",
       "      <th></th>\n",
       "      <th>Name</th>\n",
       "      <th>R1</th>\n",
       "      <th>R2</th>\n",
       "      <th>R3</th>\n",
       "    </tr>\n",
       "  </thead>\n",
       "  <tbody>\n",
       "    <tr>\n",
       "      <th>0</th>\n",
       "      <td>Dinesh</td>\n",
       "      <td>7800</td>\n",
       "      <td>6500.0</td>\n",
       "      <td>4590.0</td>\n",
       "    </tr>\n",
       "    <tr>\n",
       "      <th>1</th>\n",
       "      <td>Mahesh</td>\n",
       "      <td>8900</td>\n",
       "      <td>NaN</td>\n",
       "      <td>3790.0</td>\n",
       "    </tr>\n",
       "    <tr>\n",
       "      <th>2</th>\n",
       "      <td>Ramesh</td>\n",
       "      <td>10800</td>\n",
       "      <td>2300.0</td>\n",
       "      <td>NaN</td>\n",
       "    </tr>\n",
       "    <tr>\n",
       "      <th>3</th>\n",
       "      <td>Suresh</td>\n",
       "      <td>5600</td>\n",
       "      <td>6790.0</td>\n",
       "      <td>2300.0</td>\n",
       "    </tr>\n",
       "    <tr>\n",
       "      <th>4</th>\n",
       "      <td>Basha</td>\n",
       "      <td>7600</td>\n",
       "      <td>2300.0</td>\n",
       "      <td>2400.0</td>\n",
       "    </tr>\n",
       "  </tbody>\n",
       "</table>\n",
       "</div>"
      ],
      "text/plain": [
       "     Name     R1      R2      R3\n",
       "0  Dinesh   7800  6500.0  4590.0\n",
       "1  Mahesh   8900     NaN  3790.0\n",
       "2  Ramesh  10800  2300.0     NaN\n",
       "3  Suresh   5600  6790.0  2300.0\n",
       "4   Basha   7600  2300.0  2400.0"
      ]
     },
     "execution_count": 65,
     "metadata": {},
     "output_type": "execute_result"
    }
   ],
   "source": [
    "#In DataFrame3 created in Q.No. 5,\n",
    "\n",
    "\n",
    "import pandas as pd\n",
    "DataFrame3=pd.read_csv('sales.csv',header=None,names=['Name','R1','R2','R3'])\n",
    "\n",
    "df=DataFrame3\n",
    "df\n"
   ]
  },
  {
   "cell_type": "code",
   "execution_count": 67,
   "id": "13b1e3f3",
   "metadata": {},
   "outputs": [
    {
     "data": {
      "text/html": [
       "<div>\n",
       "<style scoped>\n",
       "    .dataframe tbody tr th:only-of-type {\n",
       "        vertical-align: middle;\n",
       "    }\n",
       "\n",
       "    .dataframe tbody tr th {\n",
       "        vertical-align: top;\n",
       "    }\n",
       "\n",
       "    .dataframe thead th {\n",
       "        text-align: right;\n",
       "    }\n",
       "</style>\n",
       "<table border=\"1\" class=\"dataframe\">\n",
       "  <thead>\n",
       "    <tr style=\"text-align: right;\">\n",
       "      <th></th>\n",
       "      <th>Name</th>\n",
       "      <th>R1</th>\n",
       "      <th>R2</th>\n",
       "      <th>R3</th>\n",
       "    </tr>\n",
       "  </thead>\n",
       "  <tbody>\n",
       "    <tr>\n",
       "      <th>0</th>\n",
       "      <td>Dinesh</td>\n",
       "      <td>7800</td>\n",
       "      <td>6500.0</td>\n",
       "      <td>4590.0</td>\n",
       "    </tr>\n",
       "    <tr>\n",
       "      <th>1</th>\n",
       "      <td>Mahesh</td>\n",
       "      <td>8900</td>\n",
       "      <td>NaN</td>\n",
       "      <td>3790.0</td>\n",
       "    </tr>\n",
       "    <tr>\n",
       "      <th>2</th>\n",
       "      <td>Ramesh</td>\n",
       "      <td>10800</td>\n",
       "      <td>2300.0</td>\n",
       "      <td>NaN</td>\n",
       "    </tr>\n",
       "    <tr>\n",
       "      <th>4</th>\n",
       "      <td>Basha</td>\n",
       "      <td>7600</td>\n",
       "      <td>2300.0</td>\n",
       "      <td>2400.0</td>\n",
       "    </tr>\n",
       "  </tbody>\n",
       "</table>\n",
       "</div>"
      ],
      "text/plain": [
       "     Name     R1      R2      R3\n",
       "0  Dinesh   7800  6500.0  4590.0\n",
       "1  Mahesh   8900     NaN  3790.0\n",
       "2  Ramesh  10800  2300.0     NaN\n",
       "4   Basha   7600  2300.0  2400.0"
      ]
     },
     "execution_count": 67,
     "metadata": {},
     "output_type": "execute_result"
    }
   ],
   "source": [
    "df[df['R1']>7000]"
   ]
  },
  {
   "cell_type": "code",
   "execution_count": 69,
   "id": "60d19971",
   "metadata": {},
   "outputs": [
    {
     "data": {
      "text/html": [
       "<div>\n",
       "<style scoped>\n",
       "    .dataframe tbody tr th:only-of-type {\n",
       "        vertical-align: middle;\n",
       "    }\n",
       "\n",
       "    .dataframe tbody tr th {\n",
       "        vertical-align: top;\n",
       "    }\n",
       "\n",
       "    .dataframe thead th {\n",
       "        text-align: right;\n",
       "    }\n",
       "</style>\n",
       "<table border=\"1\" class=\"dataframe\">\n",
       "  <thead>\n",
       "    <tr style=\"text-align: right;\">\n",
       "      <th></th>\n",
       "      <th>Name</th>\n",
       "      <th>R1</th>\n",
       "      <th>R2</th>\n",
       "      <th>R3</th>\n",
       "    </tr>\n",
       "  </thead>\n",
       "  <tbody>\n",
       "    <tr>\n",
       "      <th>3</th>\n",
       "      <td>Suresh</td>\n",
       "      <td>5600</td>\n",
       "      <td>6790.0</td>\n",
       "      <td>2300.0</td>\n",
       "    </tr>\n",
       "    <tr>\n",
       "      <th>4</th>\n",
       "      <td>Basha</td>\n",
       "      <td>7600</td>\n",
       "      <td>2300.0</td>\n",
       "      <td>2400.0</td>\n",
       "    </tr>\n",
       "  </tbody>\n",
       "</table>\n",
       "</div>"
      ],
      "text/plain": [
       "     Name    R1      R2      R3\n",
       "3  Suresh  5600  6790.0  2300.0\n",
       "4   Basha  7600  2300.0  2400.0"
      ]
     },
     "execution_count": 69,
     "metadata": {},
     "output_type": "execute_result"
    }
   ],
   "source": [
    "df[df['R3']<3000]"
   ]
  },
  {
   "cell_type": "code",
   "execution_count": 70,
   "id": "0faeaa44",
   "metadata": {},
   "outputs": [
    {
     "data": {
      "text/html": [
       "<div>\n",
       "<style scoped>\n",
       "    .dataframe tbody tr th:only-of-type {\n",
       "        vertical-align: middle;\n",
       "    }\n",
       "\n",
       "    .dataframe tbody tr th {\n",
       "        vertical-align: top;\n",
       "    }\n",
       "\n",
       "    .dataframe thead th {\n",
       "        text-align: right;\n",
       "    }\n",
       "</style>\n",
       "<table border=\"1\" class=\"dataframe\">\n",
       "  <thead>\n",
       "    <tr style=\"text-align: right;\">\n",
       "      <th></th>\n",
       "      <th>Name</th>\n",
       "      <th>R1</th>\n",
       "      <th>R2</th>\n",
       "      <th>R3</th>\n",
       "    </tr>\n",
       "  </thead>\n",
       "  <tbody>\n",
       "    <tr>\n",
       "      <th>4</th>\n",
       "      <td>Basha</td>\n",
       "      <td>7600</td>\n",
       "      <td>2300.0</td>\n",
       "      <td>2400.0</td>\n",
       "    </tr>\n",
       "  </tbody>\n",
       "</table>\n",
       "</div>"
      ],
      "text/plain": [
       "    Name    R1      R2      R3\n",
       "4  Basha  7600  2300.0  2400.0"
      ]
     },
     "execution_count": 70,
     "metadata": {},
     "output_type": "execute_result"
    }
   ],
   "source": [
    "df[(df['R1']>7000) & (df['R3']<3000)]"
   ]
  },
  {
   "cell_type": "code",
   "execution_count": 73,
   "id": "d4b75f15",
   "metadata": {},
   "outputs": [
    {
     "data": {
      "text/html": [
       "<div>\n",
       "<style scoped>\n",
       "    .dataframe tbody tr th:only-of-type {\n",
       "        vertical-align: middle;\n",
       "    }\n",
       "\n",
       "    .dataframe tbody tr th {\n",
       "        vertical-align: top;\n",
       "    }\n",
       "\n",
       "    .dataframe thead th {\n",
       "        text-align: right;\n",
       "    }\n",
       "</style>\n",
       "<table border=\"1\" class=\"dataframe\">\n",
       "  <thead>\n",
       "    <tr style=\"text-align: right;\">\n",
       "      <th></th>\n",
       "      <th>ENo.</th>\n",
       "      <th>Salary</th>\n",
       "    </tr>\n",
       "    <tr>\n",
       "      <th>DeptNo</th>\n",
       "      <th></th>\n",
       "      <th></th>\n",
       "    </tr>\n",
       "  </thead>\n",
       "  <tbody>\n",
       "    <tr>\n",
       "      <th>901</th>\n",
       "      <td>101</td>\n",
       "      <td>1000</td>\n",
       "    </tr>\n",
       "    <tr>\n",
       "      <th>902</th>\n",
       "      <td>201</td>\n",
       "      <td>2000</td>\n",
       "    </tr>\n",
       "    <tr>\n",
       "      <th>903</th>\n",
       "      <td>301</td>\n",
       "      <td>3000</td>\n",
       "    </tr>\n",
       "    <tr>\n",
       "      <th>904</th>\n",
       "      <td>401</td>\n",
       "      <td>4000</td>\n",
       "    </tr>\n",
       "    <tr>\n",
       "      <th>905</th>\n",
       "      <td>501</td>\n",
       "      <td>5000</td>\n",
       "    </tr>\n",
       "  </tbody>\n",
       "</table>\n",
       "</div>"
      ],
      "text/plain": [
       "        ENo.  Salary\n",
       "DeptNo              \n",
       "901      101    1000\n",
       "902      201    2000\n",
       "903      301    3000\n",
       "904      401    4000\n",
       "905      501    5000"
      ]
     },
     "execution_count": 73,
     "metadata": {},
     "output_type": "execute_result"
    }
   ],
   "source": [
    "#In DataFrame1 created in Q. No. 1, find the employees with the highest salary\n",
    "\n",
    "\n",
    "import pandas as pd\n",
    "DataFrame1=pd.DataFrame([[101,'Arun',1000,901,'ME'],[201,'Binod',2000,902,'CE'],\n",
    "                         [301,'Chetan',3000,903,'EE'],[401,'Deepak',4000,904,'CE'],\n",
    "                         [501,'Eram',5000,905,'AE']],\n",
    "                       columns=['ENo.','EName','Salary','DeptNo','Desig'])\n",
    "df1=DataFrame1\n",
    "df1\n",
    "\n",
    "df1.groupby(['DeptNo']).max('Salary')\n",
    "\n"
   ]
  },
  {
   "cell_type": "code",
   "execution_count": 92,
   "id": "42fe96c5",
   "metadata": {},
   "outputs": [
    {
     "data": {
      "text/html": [
       "<div>\n",
       "<style scoped>\n",
       "    .dataframe tbody tr th:only-of-type {\n",
       "        vertical-align: middle;\n",
       "    }\n",
       "\n",
       "    .dataframe tbody tr th {\n",
       "        vertical-align: top;\n",
       "    }\n",
       "\n",
       "    .dataframe thead th {\n",
       "        text-align: right;\n",
       "    }\n",
       "</style>\n",
       "<table border=\"1\" class=\"dataframe\">\n",
       "  <thead>\n",
       "    <tr style=\"text-align: right;\">\n",
       "      <th></th>\n",
       "      <th>R1</th>\n",
       "      <th>R2</th>\n",
       "      <th>R3</th>\n",
       "    </tr>\n",
       "    <tr>\n",
       "      <th>Name</th>\n",
       "      <th></th>\n",
       "      <th></th>\n",
       "      <th></th>\n",
       "    </tr>\n",
       "  </thead>\n",
       "  <tbody>\n",
       "    <tr>\n",
       "      <th>Basha</th>\n",
       "      <td>7600</td>\n",
       "      <td>2300.0</td>\n",
       "      <td>2400.0</td>\n",
       "    </tr>\n",
       "    <tr>\n",
       "      <th>Dinesh</th>\n",
       "      <td>7800</td>\n",
       "      <td>6500.0</td>\n",
       "      <td>4590.0</td>\n",
       "    </tr>\n",
       "    <tr>\n",
       "      <th>Mahesh</th>\n",
       "      <td>8900</td>\n",
       "      <td>NaN</td>\n",
       "      <td>3790.0</td>\n",
       "    </tr>\n",
       "    <tr>\n",
       "      <th>Ramesh</th>\n",
       "      <td>10800</td>\n",
       "      <td>2300.0</td>\n",
       "      <td>NaN</td>\n",
       "    </tr>\n",
       "    <tr>\n",
       "      <th>Suresh</th>\n",
       "      <td>5600</td>\n",
       "      <td>6790.0</td>\n",
       "      <td>2300.0</td>\n",
       "    </tr>\n",
       "  </tbody>\n",
       "</table>\n",
       "</div>"
      ],
      "text/plain": [
       "           R1      R2      R3\n",
       "Name                         \n",
       "Basha    7600  2300.0  2400.0\n",
       "Dinesh   7800  6500.0  4590.0\n",
       "Mahesh   8900     NaN  3790.0\n",
       "Ramesh  10800  2300.0     NaN\n",
       "Suresh   5600  6790.0  2300.0"
      ]
     },
     "execution_count": 92,
     "metadata": {},
     "output_type": "execute_result"
    }
   ],
   "source": [
    "\n",
    "import pandas as pd\n",
    "DataFrame3=pd.read_csv('sales.csv',header=None,names=['Name','R1','R2','R3'])\n",
    "\n",
    "df3=DataFrame3\n",
    "df3.groupby('Name').max()\n"
   ]
  },
  {
   "cell_type": "code",
   "execution_count": 95,
   "id": "8d454146",
   "metadata": {},
   "outputs": [
    {
     "data": {
      "text/html": [
       "<div>\n",
       "<style scoped>\n",
       "    .dataframe tbody tr th:only-of-type {\n",
       "        vertical-align: middle;\n",
       "    }\n",
       "\n",
       "    .dataframe tbody tr th {\n",
       "        vertical-align: top;\n",
       "    }\n",
       "\n",
       "    .dataframe thead th {\n",
       "        text-align: right;\n",
       "    }\n",
       "</style>\n",
       "<table border=\"1\" class=\"dataframe\">\n",
       "  <thead>\n",
       "    <tr style=\"text-align: right;\">\n",
       "      <th></th>\n",
       "      <th>ENo.</th>\n",
       "      <th>EName</th>\n",
       "      <th>Salary</th>\n",
       "      <th>DeptNo</th>\n",
       "      <th>Desig</th>\n",
       "      <th>Address</th>\n",
       "    </tr>\n",
       "  </thead>\n",
       "  <tbody>\n",
       "    <tr>\n",
       "      <th>0</th>\n",
       "      <td>101</td>\n",
       "      <td>Arun</td>\n",
       "      <td>1000</td>\n",
       "      <td>901</td>\n",
       "      <td>ME</td>\n",
       "      <td>Chennai</td>\n",
       "    </tr>\n",
       "    <tr>\n",
       "      <th>1</th>\n",
       "      <td>201</td>\n",
       "      <td>Binod</td>\n",
       "      <td>2000</td>\n",
       "      <td>902</td>\n",
       "      <td>CE</td>\n",
       "      <td>Chennai</td>\n",
       "    </tr>\n",
       "    <tr>\n",
       "      <th>2</th>\n",
       "      <td>301</td>\n",
       "      <td>Chetan</td>\n",
       "      <td>3000</td>\n",
       "      <td>903</td>\n",
       "      <td>EE</td>\n",
       "      <td>Chennai</td>\n",
       "    </tr>\n",
       "    <tr>\n",
       "      <th>3</th>\n",
       "      <td>401</td>\n",
       "      <td>Deepak</td>\n",
       "      <td>4000</td>\n",
       "      <td>904</td>\n",
       "      <td>CE</td>\n",
       "      <td>Chennai</td>\n",
       "    </tr>\n",
       "    <tr>\n",
       "      <th>4</th>\n",
       "      <td>501</td>\n",
       "      <td>Eram</td>\n",
       "      <td>5000</td>\n",
       "      <td>905</td>\n",
       "      <td>AE</td>\n",
       "      <td>Chennai</td>\n",
       "    </tr>\n",
       "  </tbody>\n",
       "</table>\n",
       "</div>"
      ],
      "text/plain": [
       "   ENo.   EName  Salary  DeptNo Desig  Address\n",
       "0   101    Arun    1000     901    ME  Chennai\n",
       "1   201   Binod    2000     902    CE  Chennai\n",
       "2   301  Chetan    3000     903    EE  Chennai\n",
       "3   401  Deepak    4000     904    CE  Chennai\n",
       "4   501    Eram    5000     905    AE  Chennai"
      ]
     },
     "execution_count": 95,
     "metadata": {},
     "output_type": "execute_result"
    }
   ],
   "source": [
    "#In DataFrame1 created in Q. No. 1, add a new column called Address. \n",
    "\n",
    "\n",
    "import pandas as pd\n",
    "DataFrame1=pd.DataFrame([[101,'Arun',1000,901,'ME'],[201,'Binod',2000,902,'CE'],\n",
    "                         [301,'Chetan',3000,903,'EE'],[401,'Deepak',4000,904,'CE'],\n",
    "                         [501,'Eram',5000,905,'AE']],\n",
    "                       columns=['ENo.','EName','Salary','DeptNo','Desig'])\n",
    "df1=DataFrame1\n",
    "df1['Address']=df1.shape[0]*['Chennai']\n",
    "df1"
   ]
  },
  {
   "cell_type": "code",
   "execution_count": 104,
   "id": "89c25cd1",
   "metadata": {},
   "outputs": [
    {
     "data": {
      "text/plain": [
       "<BarContainer object of 1 artists>"
      ]
     },
     "execution_count": 104,
     "metadata": {},
     "output_type": "execute_result"
    },
    {
     "data": {
      "image/png": "[encoded data removed]",
      "text/plain": [
       "<Figure size 432x288 with 1 Axes>"
      ]
     },
     "metadata": {
      "needs_background": "light"
     },
     "output_type": "display_data"
    },
    {
     "data": {
      "image/png": "[encoded data removed]",
      "text/plain": [
       "<Figure size 432x288 with 1 Axes>"
      ]
     },
     "metadata": {
      "needs_background": "light"
     },
     "output_type": "display_data"
    }
   ],
   "source": [
    "#line graph and bar chart to visualize the two data frames, DataFrame1 and DataFrame3.\n",
    "\n",
    "import matplotlib.pyplot\n",
    "import pandas as pd\n",
    "DataFrame1=pd.DataFrame([[101,'Arun',1000,901,'ME'],[201,'Binod',2000,902,'CE'],\n",
    "                         [301,'Chetan',3000,903,'EE'],[401,'Deepak',4000,904,'CE'],\n",
    "                         [501,'Eram',5000,905,'AE']],\n",
    "                       columns=['ENo.','EName','Salary','DeptNo','Desig'])\n",
    "\n",
    "df1=DataFrame1\n",
    "df_vis=pd.DataFrame(df1)\n",
    "df_vis.plot()\n",
    "df_vis.plot().bar('Eno.','Salary')\n",
    "\n",
    "\n",
    "\n",
    "\n",
    "\n",
    "\n",
    "\n"
   ]
  },
  {
   "cell_type": "code",
   "execution_count": 107,
   "id": "1d0afa5f",
   "metadata": {},
   "outputs": [
    {
     "data": {
      "text/plain": [
       "<BarContainer object of 1 artists>"
      ]
     },
     "execution_count": 107,
     "metadata": {},
     "output_type": "execute_result"
    },
    {
     "data": {
      "image/png": "[encoded data removed]",
      "text/plain": [
       "<Figure size 432x288 with 1 Axes>"
      ]
     },
     "metadata": {
      "needs_background": "light"
     },
     "output_type": "display_data"
    },
    {
     "data": {
      "image/png": "[encoded data removed]",
      "text/plain": [
       "<Figure size 432x288 with 1 Axes>"
      ]
     },
     "metadata": {
      "needs_background": "light"
     },
     "output_type": "display_data"
    }
   ],
   "source": [
    "import pandas as pd\n",
    "import matplotlib.pyplot\n",
    "DataFrame3=pd.read_csv('sales.csv',header=None,names=['Name','R1','R2','R3'])\n",
    "\n",
    "df3=DataFrame3\n",
    "df_vis=pd.DataFrame(df3)\n",
    "df_vis.plot()\n",
    "\n",
    "df_vis.plot().bar('x','y')"
   ]
  },
  {
   "cell_type": "code",
   "execution_count": null,
   "id": "1b872971",
   "metadata": {},
   "outputs": [],
   "source": []
  },
  {
   "cell_type": "code",
   "execution_count": null,
   "id": "6c3b9803",
   "metadata": {},
   "outputs": [],
   "source": []
  }
 ],
 "metadata": {
  "kernelspec": {
   "display_name": "Python 3 (ipykernel)",
   "language": "python",
   "name": "python3"
  },
  "language_info": {
   "codemirror_mode": {
    "name": "ipython",
    "version": 3
   },
   "file_extension": ".py",
   "mimetype": "text/x-python",
   "name": "python",
   "nbconvert_exporter": "python",
   "pygments_lexer": "ipython3",
   "version": "3.9.7"
  }
 },
 "nbformat": 4,
 "nbformat_minor": 5
}
