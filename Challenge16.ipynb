{
 "cells": [
  {
   "cell_type": "code",
   "execution_count": 1,
   "id": "59e1b647",
   "metadata": {},
   "outputs": [
    {
     "name": "stdout",
     "output_type": "stream",
     "text": [
      "T\n",
      "h\n",
      "i\n",
      "s\n",
      " \n",
      "i\n",
      "s\n",
      " \n",
      "a\n",
      " \n",
      "s\n",
      "i\n",
      "x\n",
      "t\n",
      "h\n",
      " \n",
      "c\n",
      "h\n",
      "a\n",
      "l\n",
      "l\n",
      "e\n",
      "n\n",
      "g\n",
      "e\n",
      ".\n"
     ]
    }
   ],
   "source": [
    "#program that read contents of the file ‘messages’ one character at a time and prints each character that is read.\n",
    "\n",
    "def read():\n",
    "    file_obj=open('messages.txt','r')\n",
    "    lines=file_obj.read()\n",
    "    \n",
    "    for line in lines:\n",
    "        print(line)\n",
    "        \n",
    "    file_obj.close()\n",
    "    \n",
    "    \n",
    "    return\n",
    "\n",
    "read()\n",
    "\n",
    "\n"
   ]
  },
  {
   "cell_type": "code",
   "execution_count": 6,
   "id": "6caf158a",
   "metadata": {},
   "outputs": [
    {
     "name": "stdout",
     "output_type": "stream",
     "text": [
      "Enter the file name:messages.txt\n",
      "Size of file is: (26, 'bytes')\n"
     ]
    }
   ],
   "source": [
    "# program that searches for a file, obtains its size and reports the size in bytes/ KB/ MB as appropriate\n",
    "\n",
    "import os\n",
    "\n",
    "def convert(num):\n",
    "    for x in ['bytes','KB','MB']:\n",
    "        if num<1024.0:\n",
    "            return(num,x)\n",
    "        num/=1024\n",
    "        \n",
    "def file_size(file_path):\n",
    "    if os.path.isfile(file_path):\n",
    "        file_info=os.stat(file_path)\n",
    "        return convert(file_info.st_size)\n",
    "    \n",
    "filename=input('Enter the file name:')\n",
    "print('Size of file is:',file_size(filename))\n",
    "\n",
    "            \n",
    "\n",
    "\n"
   ]
  },
  {
   "cell_type": "code",
   "execution_count": 12,
   "id": "6052d834",
   "metadata": {},
   "outputs": [
    {
     "name": "stdout",
     "output_type": "stream",
     "text": [
      "Enter 'filename.txt' qwe\n",
      "Write Something.....hello\n"
     ]
    }
   ],
   "source": [
    "#filename from the user, create a file with that name(if it does not exist) and write some content into the file\n",
    "\n",
    "def newFile():\n",
    "    f = open(input(\"Enter 'filename.txt' \"), 'w+')\n",
    "    usrInput = input(\"Write Something.....\")\n",
    "    f.write(usrInput)\n",
    "    f.write(\"\\n\")\n",
    "    f.close()\n",
    "    return\n",
    "\n",
    "newFile()\n",
    "    \n",
    "\n"
   ]
  },
  {
   "cell_type": "code",
   "execution_count": 16,
   "id": "aa89eddd",
   "metadata": {},
   "outputs": [
    {
     "name": "stdout",
     "output_type": "stream",
     "text": [
      "Line 1: Hello from Python\n",
      "\n",
      "Line 2: its easy to work with file\n"
     ]
    }
   ],
   "source": [
    "#program to read a file and display its contents along with line numbers before each line\n",
    "\n",
    "file1 = open('welcome.txt', 'r')\n",
    "Lines = file1.readlines()\n",
    "  \n",
    "count = 0\n",
    "for line in Lines:\n",
    "    count += 1\n",
    "    print(\"Line {}: {}\".format(count, line))\n",
    "\n",
    "\n"
   ]
  },
  {
   "cell_type": "code",
   "execution_count": 1,
   "id": "d93471e0",
   "metadata": {},
   "outputs": [
    {
     "name": "stdout",
     "output_type": "stream",
     "text": [
      "Enter new file in txt: copy1.txt\n",
      "Enter file to be copied in txt : welcome.txt\n",
      "file copied:\n"
     ]
    }
   ],
   "source": [
    "#program to copy the contents of one file into another\n",
    "\n",
    "\n",
    "new_file = open(input(\"Enter new file in txt: \"), \"w\")\n",
    "with open(input(\"Enter file to be copied in txt : \"), \"r\") as f:\n",
    "    new_file.write(f.read())\n",
    "\n",
    "new_file.close()\n",
    "print('file copied:')\n"
   ]
  },
  {
   "cell_type": "code",
   "execution_count": 7,
   "id": "7318d3a8",
   "metadata": {},
   "outputs": [
    {
     "name": "stdout",
     "output_type": "stream",
     "text": [
      "Enter file name in txt to be read from : Test11.txt\n",
      "Enter file name in txt to be appended to: Test12.txt\n",
      "file appended:\n"
     ]
    }
   ],
   "source": [
    "#program to append the contents of one file into another\n",
    "\n",
    "name1 = input(\"Enter file name in txt to be read from : \")\n",
    "name2 = input(\"Enter file name in txt to be appended to: \")\n",
    "fin = open(name1, \"r\")\n",
    "data = fin.read()\n",
    "fin.close()\n",
    "fout = open(name2, \"a\")\n",
    "fout.write(data)\n",
    "fout.close()\n",
    "print('file appended:')"
   ]
  },
  {
   "cell_type": "code",
   "execution_count": 30,
   "id": "59bb57b9",
   "metadata": {},
   "outputs": [
    {
     "name": "stdout",
     "output_type": "stream",
     "text": [
      "Name: Rehan Age: 30\n",
      "\n",
      "Name: Raza Age: 28\n",
      "\n",
      "Name: Aakash Age: 26\n",
      "\n",
      "Name: Vijay Age: 31\n",
      "\n",
      "Name: Zaid Age: 15\n"
     ]
    }
   ],
   "source": [
    "#program to read these records and display them in sorted order by name\n",
    "\n",
    "File = open('student.dat',\"r\")\n",
    "if(File == None):\n",
    "    print(\"File Not Found..\")\n",
    "else:\n",
    "    while(True): \n",
    "        record = File.readline()\n",
    "        if (record == ''): break\n",
    "        data = record.split(',')\n",
    "        print('Name:',data[0],'Age:', data[1])\n",
    "File.close()\n"
   ]
  },
  {
   "cell_type": "code",
   "execution_count": 6,
   "id": "9ff8a7ea",
   "metadata": {},
   "outputs": [
    {
     "name": "stdout",
     "output_type": "stream",
     "text": [
      "Enter first number:3\n",
      "Enter second number:4\n",
      "Sum of the Given number is: 7\n",
      "Product of the Given number is: 12\n",
      "Difference of the Given number is: -1\n"
     ]
    }
   ],
   "source": [
    "#program to use these functions in modules\n",
    "\n",
    "import m1,m2,m3\n",
    "\n",
    "x=int(input('Enter first number:'))\n",
    "y=int(input('Enter second number:'))\n",
    "\n",
    "print('Sum of the Given number is:',m1.f1(x,y))\n",
    "print('Product of the Given number is:',m2.f2(x,y))\n",
    "print('Difference of the Given number is:',m3.f3(x,y))"
   ]
  },
  {
   "cell_type": "code",
   "execution_count": 19,
   "id": "b5c82f8b",
   "metadata": {},
   "outputs": [
    {
     "name": "stdout",
     "output_type": "stream",
     "text": [
      ":::Welcome to mymodule:::\n",
      "Enter the First number:4\n",
      "Enter the Second number:5\n",
      "Sum is: 9\n",
      "Prod is: 20\n",
      "Remainder is: 4\n"
     ]
    }
   ],
   "source": [
    "#Add suitable code to the program such that you can use it as a module or a normal program\n",
    "\n",
    "'''This module implements basic mathematical operations'''\n",
    "print(':::Welcome to mymodule:::')\n",
    "\n",
    "import mymodule as my\n",
    "\n",
    "def fun1(x,y):\n",
    "    return x+y\n",
    "\n",
    "\n",
    "def fun2(x,y):\n",
    "    return x*y\n",
    "\n",
    "def fun3(x,y):\n",
    "    return x%y\n",
    "\n",
    "n1=int(input('Enter the First number:'))\n",
    "n2=int(input('Enter the Second number:'))\n",
    "\n",
    "#normal program\n",
    "print('Sum is:',fun1(n1,n2))\n",
    "print('Prod is:',fun2(n1,n2))\n",
    "print('Remainder is:',fun3(n1,n2))\n",
    "\n"
   ]
  },
  {
   "cell_type": "code",
   "execution_count": 21,
   "id": "4b301c1a",
   "metadata": {},
   "outputs": [
    {
     "name": "stdout",
     "output_type": "stream",
     "text": [
      "Enter first string:skill\n",
      "Enter second string:Lync\n",
      "Length of string 1 is: 5\n",
      "Length of string 2 is: 4\n",
      "Comparision of two string is: False\n",
      "Concatenation of two string is: skillLync\n"
     ]
    }
   ],
   "source": [
    "# three forms of import statements to use these functions in your program\n",
    "\n",
    "import mod as md\n",
    "\n",
    "from mod import *\n",
    "\n",
    "from mod import f1,f2,f3\n",
    "\n",
    "str1=input('Enter first string:')\n",
    "str2=input('Enter second string:')\n",
    "print('Length of string 1 is:',md.f1(str1))\n",
    "print('Length of string 2 is:',md.f1(str2))\n",
    "print('Comparision of two string is:',md.f2(str1,str2))\n",
    "print('Concatenation of two string is:',md.f3(str1,str2))\n",
    "\n"
   ]
  },
  {
   "cell_type": "code",
   "execution_count": null,
   "id": "a8ab4d58",
   "metadata": {},
   "outputs": [],
   "source": []
  }
 ],
 "metadata": {
  "kernelspec": {
   "display_name": "Python 3 (ipykernel)",
   "language": "python",
   "name": "python3"
  },
  "language_info": {
   "codemirror_mode": {
    "name": "ipython",
    "version": 3
   },
   "file_extension": ".py",
   "mimetype": "text/x-python",
   "name": "python",
   "nbconvert_exporter": "python",
   "pygments_lexer": "ipython3",
   "version": "3.9.7"
  }
 },
 "nbformat": 4,
 "nbformat_minor": 5
}
