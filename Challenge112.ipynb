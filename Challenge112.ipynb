{
 "cells": [
  {
   "cell_type": "code",
   "execution_count": 9,
   "id": "7aff32b6",
   "metadata": {},
   "outputs": [],
   "source": [
    "#Create a database called temp_db. Open a cursor to this newly created database.\n",
    "\n",
    "\n",
    "import sqlite3\n",
    "con=sqlite3.connect('temp_db')\n",
    "cursorobj=con.cursor()\n",
    "con.commit()\n",
    "con.close()\n"
   ]
  },
  {
   "cell_type": "code",
   "execution_count": 10,
   "id": "bfe1c2c7",
   "metadata": {},
   "outputs": [],
   "source": [
    "#In the database temp_db created in Q.No.1, create a table\n",
    "\n",
    "import sqlite3\n",
    "con=sqlite3.connect('temp_db')\n",
    "c=con.cursor()\n",
    "\n",
    "c.execute('''\n",
    "          CREATE TABLE IF NOT EXISTS emp\n",
    "          ([empno] INTEGER PRIMARY KEY , [ename] TEXT,[salary] REAL,[deptno] TEXT)\n",
    "          ''')\n",
    "          \n",
    "\n",
    "con.commit()\n",
    "con.close()\n",
    "\n"
   ]
  },
  {
   "cell_type": "code",
   "execution_count": 18,
   "id": "684b57fa",
   "metadata": {},
   "outputs": [],
   "source": [
    "#In the emp table created in Q.No. 2, insert any five records.\n",
    "\n",
    "import sqlite3\n",
    "con=sqlite3.connect('temp_db')\n",
    "c=con.cursor()\n",
    "\n",
    "c.execute('''\n",
    "          CREATE TABLE IF NOT EXISTS emp\n",
    "          ([empno] INTEGER PRIMARY KEY , [ename] TEXT,[salary] REAL,[deptno] TEXT)\n",
    "          ''')\n",
    "  \n",
    "c.execute('''\n",
    "          INSERT INTO emp (empno,ename, salary,deptno)\n",
    "\n",
    "                VALUES\n",
    "                (21,'Rehan',10000,10),\n",
    "                (22,'Mahfooz',15000,20),\n",
    "                (23,'Zaid',20000,30),\n",
    "                (24,'Ahyan',22000,40),\n",
    "                (25,'Mizan',30000,10)\n",
    "          ''')\n",
    "\n",
    "con.commit()\n",
    "con.close()\n",
    "\n"
   ]
  },
  {
   "cell_type": "code",
   "execution_count": 31,
   "id": "c0296fa9",
   "metadata": {},
   "outputs": [
    {
     "data": {
      "text/plain": [
       "[(1, 'Rehan', 10000.0, '101'),\n",
       " (2, 'Raza', 20000.0, '201'),\n",
       " (3, 'Zaid', 30000.0, '301'),\n",
       " (4, 'Ahyan', 40000.0, '401'),\n",
       " (5, 'Waquar', 50000.0, '501'),\n",
       " (6, 'Rehan', 10000.0, '101'),\n",
       " (7, 'Raza', 20000.0, '201'),\n",
       " (8, 'Zaid', 30000.0, '301'),\n",
       " (9, 'Ahyan', 40000.0, '401'),\n",
       " (10, 'Waquar', 50000.0, '501'),\n",
       " (11, 'Rehan', 10000.0, '101'),\n",
       " (12, 'Raza', 20000.0, '201'),\n",
       " (13, 'Zaid', 30000.0, '301'),\n",
       " (14, 'Ahyan', 40000.0, '401'),\n",
       " (15, 'Waquar', 50000.0, '501'),\n",
       " (16, 'Rehan', 10000.0, '10'),\n",
       " (17, 'Raza', 15000.0, '20'),\n",
       " (19, 'Ahyan', 22000.0, '40'),\n",
       " (20, 'Waquar', 30000.0, '10'),\n",
       " (21, 'Rehan', 10000.0, '10'),\n",
       " (22, 'Mahfooz', 15000.0, '20'),\n",
       " (24, 'Ahyan', 22000.0, '40'),\n",
       " (25, 'Mizan', 30000.0, '10')]"
      ]
     },
     "execution_count": 31,
     "metadata": {},
     "output_type": "execute_result"
    }
   ],
   "source": [
    "#From the emp table, display all the records.\n",
    "\n",
    "import sqlite3\n",
    "def View1():\n",
    "    con=sqlite3.connect('temp_db')\n",
    "    c=con.cursor()\n",
    "    c.execute('select * FROM emp')\n",
    "    r=c.fetchall()\n",
    "    con.commit()\n",
    "    con.close()\n",
    "    return r\n",
    "\n",
    "View1()\n",
    "\n",
    "    \n",
    "\n"
   ]
  },
  {
   "cell_type": "code",
   "execution_count": 26,
   "id": "1ea41796",
   "metadata": {},
   "outputs": [
    {
     "data": {
      "text/plain": [
       "[(20, 'Waquar', 30000.0, '10'), (25, 'Mizan', 30000.0, '10')]"
      ]
     },
     "execution_count": 26,
     "metadata": {},
     "output_type": "execute_result"
    }
   ],
   "source": [
    "#From the emp table, display the records of only those employees\n",
    "\n",
    "\n",
    "import sqlite3\n",
    "def View2():\n",
    "    con=sqlite3.connect('temp_db')\n",
    "    c=con.cursor()\n",
    "    c.execute('select * FROM emp where salary>15000 and deptno=10')\n",
    "    r=c.fetchall()\n",
    "    con.commit()\n",
    "    con.close()\n",
    "    return r\n",
    "\n",
    "View2()"
   ]
  },
  {
   "cell_type": "code",
   "execution_count": 25,
   "id": "07baa8c4",
   "metadata": {},
   "outputs": [
    {
     "data": {
      "text/plain": [
       "[(19, 'Ahyan', 22000.0, '40'), (24, 'Ahyan', 22000.0, '40')]"
      ]
     },
     "execution_count": 25,
     "metadata": {},
     "output_type": "execute_result"
    }
   ],
   "source": [
    "#From the emp table, display the records of only those employees \n",
    "\n",
    "import sqlite3\n",
    "def View3():\n",
    "    con=sqlite3.connect('temp_db')\n",
    "    c=con.cursor()\n",
    "    c.execute('select * FROM emp where salary>20000 and salary<25000 and deptno!=10')\n",
    "    r=c.fetchall()\n",
    "    con.commit()\n",
    "    con.close()\n",
    "    return r\n",
    "\n",
    "View3()\n",
    "\n"
   ]
  },
  {
   "cell_type": "code",
   "execution_count": 24,
   "id": "33f8f2ab",
   "metadata": {},
   "outputs": [
    {
     "data": {
      "text/plain": [
       "[(22, 'Mahfooz', 15000.0, '20'), (25, 'Mizan', 30000.0, '10')]"
      ]
     },
     "execution_count": 24,
     "metadata": {},
     "output_type": "execute_result"
    }
   ],
   "source": [
    "#From the emp table, display the records of only those employees whose name begins with M.\n",
    "\n",
    "import sqlite3\n",
    "def View4():\n",
    "    con=sqlite3.connect('temp_db')\n",
    "    c=con.cursor()\n",
    "    c.execute('select * FROM emp where ename like \"M%\" ')\n",
    "    r=c.fetchall()\n",
    "    con.commit()\n",
    "    con.close()\n",
    "    return r\n",
    "\n",
    "View4()"
   ]
  },
  {
   "cell_type": "code",
   "execution_count": 7,
   "id": "92e258f9",
   "metadata": {},
   "outputs": [
    {
     "data": {
      "text/plain": [
       "[(1, 'Rehan', 12100.0, '101'),\n",
       " (2, 'Raza', 22000.0, '201'),\n",
       " (3, 'Zaid', 30000.0, '301'),\n",
       " (4, 'Ahyan', 40000.0, '401'),\n",
       " (5, 'Waquar', 50000.0, '501'),\n",
       " (6, 'Rehan', 10000.0, '101'),\n",
       " (7, 'Raza', 20000.0, '201'),\n",
       " (8, 'Zaid', 30000.0, '301'),\n",
       " (9, 'Ahyan', 40000.0, '401'),\n",
       " (10, 'Waquar', 50000.0, '501'),\n",
       " (11, 'Rehan', 10000.0, '101'),\n",
       " (12, 'Raza', 20000.0, '201'),\n",
       " (13, 'Zaid', 30000.0, '301'),\n",
       " (14, 'Ahyan', 40000.0, '401'),\n",
       " (15, 'Waquar', 50000.0, '501'),\n",
       " (16, 'Rehan', 10000.0, '10'),\n",
       " (17, 'Raza', 15000.0, '20'),\n",
       " (19, 'Ahyan', 22000.0, '40'),\n",
       " (20, 'Waquar', 30000.0, '10'),\n",
       " (21, 'Rehan', 10000.0, '10'),\n",
       " (22, 'Mahfooz', 15000.0, '20'),\n",
       " (24, 'Ahyan', 22000.0, '40'),\n",
       " (25, 'Mizan', 30000.0, '10')]"
      ]
     },
     "execution_count": 7,
     "metadata": {},
     "output_type": "execute_result"
    }
   ],
   "source": [
    "#In the emp table, delete the records of those employees who belong to deptno 30\n",
    " \n",
    "import sqlite3\n",
    "def View5():\n",
    "    con=sqlite3.connect('temp_db')\n",
    "    c=con.cursor()\n",
    "    c.execute('delete FROM emp where deptno=30 ')\n",
    "    r=c.fetchall()\n",
    "    con.commit()\n",
    "    con.close()\n",
    "    return r\n",
    "\n",
    "def View1():\n",
    "    con=sqlite3.connect('temp_db')\n",
    "    c=con.cursor()\n",
    "    c.execute('select * FROM emp')\n",
    "    r=c.fetchall()\n",
    "    con.commit()\n",
    "    con.close()\n",
    "    return r\n",
    "\n",
    "View5()    \n",
    "View1()\n"
   ]
  },
  {
   "cell_type": "code",
   "execution_count": 6,
   "id": "5737517c",
   "metadata": {},
   "outputs": [
    {
     "name": "stdout",
     "output_type": "stream",
     "text": [
      "Enter employee ID:2\n"
     ]
    },
    {
     "data": {
      "text/plain": [
       "[(1, 'Rehan', 12100.0, '101'),\n",
       " (2, 'Raza', 22000.0, '201'),\n",
       " (3, 'Zaid', 30000.0, '301'),\n",
       " (4, 'Ahyan', 40000.0, '401'),\n",
       " (5, 'Waquar', 50000.0, '501'),\n",
       " (6, 'Rehan', 10000.0, '101'),\n",
       " (7, 'Raza', 20000.0, '201'),\n",
       " (8, 'Zaid', 30000.0, '301'),\n",
       " (9, 'Ahyan', 40000.0, '401'),\n",
       " (10, 'Waquar', 50000.0, '501'),\n",
       " (11, 'Rehan', 10000.0, '101'),\n",
       " (12, 'Raza', 20000.0, '201'),\n",
       " (13, 'Zaid', 30000.0, '301'),\n",
       " (14, 'Ahyan', 40000.0, '401'),\n",
       " (15, 'Waquar', 50000.0, '501'),\n",
       " (16, 'Rehan', 10000.0, '10'),\n",
       " (17, 'Raza', 15000.0, '20'),\n",
       " (19, 'Ahyan', 22000.0, '40'),\n",
       " (20, 'Waquar', 30000.0, '10'),\n",
       " (21, 'Rehan', 10000.0, '10'),\n",
       " (22, 'Mahfooz', 15000.0, '20'),\n",
       " (24, 'Ahyan', 22000.0, '40'),\n",
       " (25, 'Mizan', 30000.0, '10')]"
      ]
     },
     "execution_count": 6,
     "metadata": {},
     "output_type": "execute_result"
    }
   ],
   "source": [
    "#In the emp table, update the salary of an employee by 10 % by accepting the empno from the user.\n",
    "\n",
    "import sqlite3\n",
    "def View6(e):\n",
    "    con=sqlite3.connect('temp_db')\n",
    "    c=con.cursor()\n",
    "    c.execute('UPDATE emp SET salary = salary + (salary * 0.1) WHERE empno = ?',(e,))\n",
    "    r=c.fetchall()\n",
    "    con.commit()\n",
    "    con.close()\n",
    "    return r\n",
    "\n",
    "def View1():\n",
    "    con=sqlite3.connect('temp_db')\n",
    "    c=con.cursor()\n",
    "    c.execute('select * FROM emp')\n",
    "    r=c.fetchall()\n",
    "    con.commit()\n",
    "    con.close()\n",
    "    return r\n",
    "              \n",
    "id=int(input('Enter employee ID:'))\n",
    "View6(id) \n",
    "View1()             \n",
    "\n",
    "\n",
    "\n"
   ]
  },
  {
   "cell_type": "code",
   "execution_count": 9,
   "id": "24c0e7ff",
   "metadata": {},
   "outputs": [
    {
     "ename": "OperationalError",
     "evalue": "no such table: emp",
     "output_type": "error",
     "traceback": [
      "\u001b[1;31m---------------------------------------------------------------------------\u001b[0m",
      "\u001b[1;31mOperationalError\u001b[0m                          Traceback (most recent call last)",
      "\u001b[1;32m~\\AppData\\Local\\Temp/ipykernel_20868/887263947.py\u001b[0m in \u001b[0;36m<module>\u001b[1;34m\u001b[0m\n\u001b[0;32m     11\u001b[0m \u001b[1;33m\u001b[0m\u001b[0m\n\u001b[0;32m     12\u001b[0m \u001b[1;33m\u001b[0m\u001b[0m\n\u001b[1;32m---> 13\u001b[1;33m \u001b[0mdrop\u001b[0m\u001b[1;33m(\u001b[0m\u001b[1;33m)\u001b[0m\u001b[1;33m\u001b[0m\u001b[1;33m\u001b[0m\u001b[0m\n\u001b[0m",
      "\u001b[1;32m~\\AppData\\Local\\Temp/ipykernel_20868/887263947.py\u001b[0m in \u001b[0;36mdrop\u001b[1;34m()\u001b[0m\n\u001b[0;32m      5\u001b[0m     \u001b[0mcon\u001b[0m\u001b[1;33m=\u001b[0m\u001b[0msqlite3\u001b[0m\u001b[1;33m.\u001b[0m\u001b[0mconnect\u001b[0m\u001b[1;33m(\u001b[0m\u001b[1;34m'temp_db'\u001b[0m\u001b[1;33m)\u001b[0m\u001b[1;33m\u001b[0m\u001b[1;33m\u001b[0m\u001b[0m\n\u001b[0;32m      6\u001b[0m     \u001b[0mc\u001b[0m\u001b[1;33m=\u001b[0m\u001b[0mcon\u001b[0m\u001b[1;33m.\u001b[0m\u001b[0mcursor\u001b[0m\u001b[1;33m(\u001b[0m\u001b[1;33m)\u001b[0m\u001b[1;33m\u001b[0m\u001b[1;33m\u001b[0m\u001b[0m\n\u001b[1;32m----> 7\u001b[1;33m     \u001b[0mc\u001b[0m\u001b[1;33m.\u001b[0m\u001b[0mexecute\u001b[0m\u001b[1;33m(\u001b[0m\u001b[1;34m'drop table emp'\u001b[0m\u001b[1;33m)\u001b[0m\u001b[1;33m\u001b[0m\u001b[1;33m\u001b[0m\u001b[0m\n\u001b[0m\u001b[0;32m      8\u001b[0m     \u001b[0mcon\u001b[0m\u001b[1;33m.\u001b[0m\u001b[0mcommit\u001b[0m\u001b[1;33m(\u001b[0m\u001b[1;33m)\u001b[0m\u001b[1;33m\u001b[0m\u001b[1;33m\u001b[0m\u001b[0m\n\u001b[0;32m      9\u001b[0m     \u001b[0mcon\u001b[0m\u001b[1;33m.\u001b[0m\u001b[0mclose\u001b[0m\u001b[1;33m(\u001b[0m\u001b[1;33m)\u001b[0m\u001b[1;33m\u001b[0m\u001b[1;33m\u001b[0m\u001b[0m\n",
      "\u001b[1;31mOperationalError\u001b[0m: no such table: emp"
     ]
    }
   ],
   "source": [
    "#Delete the emp table.\n",
    "\n",
    "\n",
    "def drop():\n",
    "    con=sqlite3.connect('temp_db')\n",
    "    c=con.cursor()\n",
    "    c.execute('drop table emp')\n",
    "    con.commit()\n",
    "    con.close()\n",
    "    \n",
    "\n",
    "drop()\n"
   ]
  },
  {
   "cell_type": "code",
   "execution_count": null,
   "id": "46602d09",
   "metadata": {},
   "outputs": [],
   "source": []
  }
 ],
 "metadata": {
  "kernelspec": {
   "display_name": "Python 3 (ipykernel)",
   "language": "python",
   "name": "python3"
  },
  "language_info": {
   "codemirror_mode": {
    "name": "ipython",
    "version": 3
   },
   "file_extension": ".py",
   "mimetype": "text/x-python",
   "name": "python",
   "nbconvert_exporter": "python",
   "pygments_lexer": "ipython3",
   "version": "3.9.7"
  }
 },
 "nbformat": 4,
 "nbformat_minor": 5
}
