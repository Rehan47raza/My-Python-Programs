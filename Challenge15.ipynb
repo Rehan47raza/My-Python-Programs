{
 "cells": [
  {
   "cell_type": "code",
   "execution_count": 6,
   "id": "8dc3b21f",
   "metadata": {},
   "outputs": [
    {
     "name": "stdout",
     "output_type": "stream",
     "text": [
      "Enter the base of the traingle:3.0\n",
      "Enter the perpendicular of the traingle:4.0\n",
      "The hypotenuse is: 5.0\n"
     ]
    }
   ],
   "source": [
    "# function that takes the lengths of the two shorter sides of a right triangle as its parameters and calculate hypotenuse\n",
    "\n",
    "from math import sqrt\n",
    "\n",
    "def pythagorous(p,b):\n",
    "    h=sqrt(a**2+b**2)\n",
    "    print('The hypotenuse is:',h)\n",
    "    \n",
    "    return\n",
    "\n",
    "a=float(input('Enter the base of the traingle:'))\n",
    "b=float(input('Enter the perpendicular of the traingle:'))\n",
    "pythagorous(a,b)\n",
    "\n",
    "    \n"
   ]
  },
  {
   "cell_type": "code",
   "execution_count": 10,
   "id": "16737fdf",
   "metadata": {},
   "outputs": [
    {
     "name": "stdout",
     "output_type": "stream",
     "text": [
      "Enter the number of items to be shipped:5\n",
      "Total service charge: 22.09\n"
     ]
    }
   ],
   "source": [
    "#function that takes the number of items in the order as its only parameter.\n",
    "def order(item):\n",
    "    charge=10.29+(item-1)*2.95\n",
    "    print('Total service charge:',charge)\n",
    "    return\n",
    "\n",
    "def main():\n",
    "    \n",
    "    n=int(input('Enter the number of items to be shipped:'))\n",
    "    order(n)\n",
    "    return\n",
    "\n",
    "if __name__ == \"__main__\":\n",
    "    main()\n",
    "\n",
    "\n"
   ]
  },
  {
   "cell_type": "code",
   "execution_count": 12,
   "id": "789d83d7",
   "metadata": {},
   "outputs": [
    {
     "name": "stdout",
     "output_type": "stream",
     "text": [
      "Enter the first number:8\n",
      "Enter the second number:3\n",
      "Enter the third number:7\n",
      "Median Value is: 7\n"
     ]
    }
   ],
   "source": [
    "#function that takes three numbers as parameters, and returns the median value of those parameters as its result.\n",
    "\n",
    "def median(a,b,c):\n",
    "    m1=max(a,b,c)\n",
    "    m3=min(a,b,c)\n",
    "    m2=(a+b+c)-(m1+m3)\n",
    "    print('Median Value is:',m2)\n",
    "    return\n",
    "\n",
    "\n",
    "def main():\n",
    "    \n",
    "    n1=int(input('Enter the first number:'))\n",
    "    n2=int(input('Enter the second number:'))\n",
    "    n3=int(input('Enter the third number:'))\n",
    "    median(n1,n2,n3)\n",
    "    return\n",
    "\n",
    "if __name__ == \"__main__\":\n",
    "    main()\n",
    "\n",
    "    "
   ]
  },
  {
   "cell_type": "code",
   "execution_count": 20,
   "id": "f130dc04",
   "metadata": {},
   "outputs": [
    {
     "name": "stdout",
     "output_type": "stream",
     "text": [
      "Enter the first side of triangle:3\n",
      "Enter the second side of triangle:4\n",
      "Enter the third side of triangle:5\n",
      "True\n"
     ]
    }
   ],
   "source": [
    "#function that determines whether or not three lengths can form a triangle\n",
    "\n",
    "def triangle(a,b,c):\n",
    "    \n",
    "    if a+b>c and b+c>a and c+a>b:\n",
    "        print(True)\n",
    "    else:\n",
    "        print(False)\n",
    "\n",
    "def main():\n",
    "    f1=int(input('Enter the first side of triangle:'))\n",
    "    f2=int(input('Enter the second side of triangle:'))\n",
    "    f3=int(input('Enter the third side of triangle:'))\n",
    "    triangle(f1,f2,f3)\n",
    "    return\n",
    "\n",
    "if __name__==\"__main__\":\n",
    "    main()\n",
    "\n",
    "\n"
   ]
  },
  {
   "cell_type": "code",
   "execution_count": 43,
   "id": "91668775",
   "metadata": {},
   "outputs": [
    {
     "name": "stdout",
     "output_type": "stream",
     "text": [
      "Enter the string having integer only:+1 2 3 4\n",
      "Given String contains only Integer:\n"
     ]
    }
   ],
   "source": [
    "#function named isInteger that determines whether or not the characters in a string represent a valid integer.\n",
    "\n",
    "def isInteger(str3):\n",
    "    if len(str3)>=1:\n",
    "        \n",
    "        if str3[:1]=='+' or str3[:1]=='-' and str3.isdigit():\n",
    "            \n",
    "            print ('Given String contains only Integer:')\n",
    "            \n",
    "        \n",
    "        else:\n",
    "            print('Given String is not an integer:')\n",
    "    return\n",
    "\n",
    "\n",
    "def main():\n",
    "    str1=input('Enter the string having integer only:')\n",
    "    str2=str1.replace(' ','')\n",
    "    isInteger(str2)\n",
    "    return\n",
    "\n",
    "if __name__==\"__main__\":\n",
    "    main()\n"
   ]
  },
  {
   "cell_type": "code",
   "execution_count": 13,
   "id": "56ffbda4",
   "metadata": {},
   "outputs": [
    {
     "name": "stdout",
     "output_type": "stream",
     "text": [
      "The next prime number greater great than: 15\n",
      "17\n"
     ]
    }
   ],
   "source": [
    "#finds and returns the first prime number larger than some integer, n. \n",
    "\n",
    "def nextprime(n):\n",
    "    return primerange(n, 2*n)\n",
    "\n",
    "def primerange(a, b):\n",
    "    for p in range(a, b):\n",
    "        for i in range(2, p):\n",
    "            if p % i == 0:\n",
    "                break\n",
    "        else:\n",
    "            return p\n",
    "\n",
    "def main():\n",
    "    n = int(input('The next prime number greater great than: '))\n",
    "    print (nextprime(n+1))\n",
    "\n",
    "if __name__ == '__main__':\n",
    "    main()\n",
    "\n",
    "\n",
    "\n",
    "\n",
    "\n"
   ]
  },
  {
   "cell_type": "code",
   "execution_count": 77,
   "id": "6e65743c",
   "metadata": {},
   "outputs": [
    {
     "name": "stdout",
     "output_type": "stream",
     "text": [
      "Enter the Password:Rehan123\n",
      "True\n"
     ]
    }
   ],
   "source": [
    "#program that reads a password from the user and reports whether or not it is good.\n",
    "\n",
    "import re\n",
    "def password(pas):\n",
    "    if len(pas)>=8 and re.search(\"[a-z]\", pas) and re.search(\"[A-Z]\", pas) and re.search(\"[0-9]\", pas):\n",
    "        print(True)\n",
    "    else:\n",
    "        print(False)\n",
    "    \n",
    "    \n",
    "    return\n",
    "\n",
    "\n",
    "def main():\n",
    "    pas=input('Enter the Password:')\n",
    "    password(pas)\n",
    "    return\n",
    "\n",
    "if __name__==\"__main__\":\n",
    "    main()"
   ]
  },
  {
   "cell_type": "code",
   "execution_count": 6,
   "id": "913bdc7f",
   "metadata": {},
   "outputs": [
    {
     "name": "stdout",
     "output_type": "stream",
     "text": [
      "Enter the String:madam\n",
      "The given word is a Palindrome\n"
     ]
    }
   ],
   "source": [
    "#recursive function to determine whether or not the string is a palindrome\n",
    "def is_palindrome(word):\n",
    "    word=word.lower()\n",
    "    if(len(word)==1):\n",
    "        return True\n",
    "    elif(len(word)==2):\n",
    "        if(word[0]==word[1]):\n",
    "            return True\n",
    "        else:\n",
    "            return False\n",
    "    elif(len(word)>2 and word[0]==word[-1]):\n",
    "        word=word[1:-1]\n",
    "        result=is_palindrome(word)\n",
    "        if(result):\n",
    "            return True\n",
    "        else:\n",
    "            return False\n",
    "    else:\n",
    "        return False\n",
    "\n",
    "\n",
    "def main():\n",
    "    word=input('Enter the String:')\n",
    "    result=is_palindrome(word)\n",
    "    if(result):\n",
    "        print(\"The given word is a Palindrome\")\n",
    "    else:\n",
    "        print(\"The given word is not a Palindrome\")\n",
    "    return\n",
    "\n",
    "if __name__==\"__main__\":\n",
    "    main()"
   ]
  },
  {
   "cell_type": "code",
   "execution_count": 1,
   "id": "6da5faa5",
   "metadata": {},
   "outputs": [
    {
     "name": "stdout",
     "output_type": "stream",
     "text": [
      "Enter a value or blank line to exit : 1\n",
      "Enter a value or blank line to exit : 2\n",
      "Enter a value or blank line to exit : 3\n",
      "Enter a value or blank line to exit : 4\n",
      "Enter a value or blank line to exit : 5\n",
      "Enter a value or blank line to exit : \n",
      "Total of all the values is =  15\n"
     ]
    }
   ],
   "source": [
    "#program that reads values from the user until a blank line is entered.\n",
    "\n",
    "def Test():\n",
    "\n",
    "   n = input(\"Enter a value or blank line to exit : \")\n",
    "\n",
    "   if n == \"\":\n",
    "\n",
    "       return 0\n",
    "\n",
    "   else:\n",
    "\n",
    "       n = int(n)\n",
    "\n",
    "       return (n + Test())\n",
    "\n",
    "print(\"Total of all the values is = \", Test())\n",
    "\n",
    "\n",
    "\n"
   ]
  },
  {
   "cell_type": "code",
   "execution_count": 5,
   "id": "0c8bf2c9",
   "metadata": {},
   "outputs": [
    {
     "name": "stdout",
     "output_type": "stream",
     "text": [
      "apples\n",
      "apples and oranges\n",
      "apples,oranges and bananas\n",
      "apples,oranges,bananas and lemons\n"
     ]
    }
   ],
   "source": [
    "#function that takes a list of strings as its only parameter and return in formatted manner\n",
    "\n",
    "my_list = ['apples', 'apples and oranges', 'apples,oranges and bananas','apples,oranges,bananas and lemons']\n",
    "\n",
    "def my_func(list_as_argument):\n",
    "    for elem in list_as_argument:\n",
    "        print(elem)\n",
    "\n",
    "\n",
    "def main():\n",
    "    \n",
    "    my_func(my_list)\n",
    "    \n",
    "    return\n",
    "\n",
    "if __name__==\"__main__\":\n",
    "    main()\n"
   ]
  },
  {
   "cell_type": "code",
   "execution_count": null,
   "id": "8e88ef6f",
   "metadata": {},
   "outputs": [],
   "source": []
  }
 ],
 "metadata": {
  "kernelspec": {
   "display_name": "Python 3 (ipykernel)",
   "language": "python",
   "name": "python3"
  },
  "language_info": {
   "codemirror_mode": {
    "name": "ipython",
    "version": 3
   },
   "file_extension": ".py",
   "mimetype": "text/x-python",
   "name": "python",
   "nbconvert_exporter": "python",
   "pygments_lexer": "ipython3",
   "version": "3.9.7"
  }
 },
 "nbformat": 4,
 "nbformat_minor": 5
}
