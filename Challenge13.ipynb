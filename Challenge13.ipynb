{
 "cells": [
  {
   "cell_type": "code",
   "execution_count": 10,
   "id": "4b593211",
   "metadata": {},
   "outputs": [
    {
     "name": "stdout",
     "output_type": "stream",
     "text": [
      "Enter the integer greater than 10:16\n",
      "1\n",
      "3\n",
      "5\n",
      "7\n",
      "9\n",
      "11\n",
      "13\n",
      "15\n"
     ]
    }
   ],
   "source": [
    "#program to accept an integer n greater than 10. Then print all the odd numbers from 1 to n.\n",
    "\n",
    "def PrintInteger():\n",
    "    n=int(input('Enter the integer greater than 10:'))\n",
    "    if n>10:\n",
    "        for i in range (1,n+1):\n",
    "            if i%2!=0:\n",
    "                print(i)\n",
    "                continue\n",
    "                \n",
    "    else:\n",
    "        print('Please Enter the integer greater than 10')\n",
    "        \n",
    "    return\n",
    "\n",
    "PrintInteger()\n",
    "\n"
   ]
  },
  {
   "cell_type": "code",
   "execution_count": 42,
   "id": "d7bd70f4",
   "metadata": {},
   "outputs": [
    {
     "name": "stdout",
     "output_type": "stream",
     "text": [
      " Enter any Number greater than 10 : 19\n",
      "Prime numbers between 1 and 19 are:\n",
      "2\n",
      "3\n",
      "5\n",
      "7\n",
      "11\n",
      "13\n",
      "17\n",
      "19\n"
     ]
    }
   ],
   "source": [
    "#program to accept an integer n greater than 10. Then print all the prime numbers from 1 to n.\n",
    "\n",
    "def Prime():\n",
    "    Num = int(input(\" Enter any Number greater than 10 : \"))\n",
    "    \n",
    "    if Num>10:\n",
    "        print(\"Prime numbers between\", 1, \"and\", Num, \"are:\")\n",
    "        for num in range(1, Num + 1):\n",
    "            if num > 1:\n",
    "                for i in range(2, num):\n",
    "                    if (num % i) == 0:\n",
    "                        break\n",
    "                else:\n",
    "                    print(num)\n",
    "    else:\n",
    "        print(\"Enter the number greater than 10:\")\n",
    "    return\n",
    "\n",
    "Prime()\n",
    "    \n",
    "    "
   ]
  },
  {
   "cell_type": "code",
   "execution_count": 52,
   "id": "98a115e0",
   "metadata": {},
   "outputs": [
    {
     "name": "stdout",
     "output_type": "stream",
     "text": [
      "Enter the integer Press 0 to Exit:1\n",
      "Enter the integer Press 0 to Exit:2\n",
      "Enter the integer Press 0 to Exit:3\n",
      "Enter the integer Press 0 to Exit:0\n",
      "Average of the numbers are:  2.0\n"
     ]
    }
   ],
   "source": [
    "#program that computes the average of a collection of values entered by the user.\n",
    "\n",
    "def Average():\n",
    "    count = 0\n",
    "    sum = 0\n",
    "    num = 1\n",
    "\n",
    "    while num != 0:\n",
    "        num = int(input('Enter the integer Press 0 to Exit:'))\n",
    "        sum += num\n",
    "        count += 1\n",
    "\n",
    "    if count == 1:\n",
    "        print(\"Enter some numbers to calculate average:\")\n",
    "    else:\n",
    "        average = sum / (count - 1)\n",
    "        print(\"Average of the numbers are: \", average)\n",
    "            \n",
    "    return\n",
    "\n",
    "Average()\n",
    "    "
   ]
  },
  {
   "cell_type": "code",
   "execution_count": 53,
   "id": "c3cae3fd",
   "metadata": {},
   "outputs": [
    {
     "name": "stdout",
     "output_type": "stream",
     "text": [
      "Enter any number to get the Multiplication Table5\n",
      "5\n",
      "10\n",
      "15\n",
      "20\n",
      "25\n",
      "30\n",
      "35\n",
      "40\n",
      "45\n",
      "50\n"
     ]
    }
   ],
   "source": [
    "#program that takes a number as input and prints its multiplication table.\n",
    "\n",
    "def Table():\n",
    "    num=int(input(\"Enter any number to get the Multiplication Table:\"))\n",
    "    for i in range(1,11):\n",
    "        print(num*i)\n",
    "        \n",
    "    return\n",
    "\n",
    "Table()\n"
   ]
  },
  {
   "cell_type": "code",
   "execution_count": 59,
   "id": "19554fcd",
   "metadata": {},
   "outputs": [
    {
     "name": "stdout",
     "output_type": "stream",
     "text": [
      "0 32.0\n",
      "10 50.0\n",
      "20 68.0\n",
      "30 86.0\n",
      "40 104.0\n",
      "50 122.0\n",
      "60 140.0\n",
      "70 158.0\n",
      "80 176.0\n",
      "90 194.0\n",
      "100 212.0\n"
     ]
    }
   ],
   "source": [
    "#program that displays a temperature conversion table for degrees Celsius and degrees Fahrenheit. \n",
    "\n",
    "import pandas as pd\n",
    "\n",
    " \n",
    "for i in range(0,101,10):\n",
    "    f=(i/5)*9+32\n",
    "    print(i,f)\n",
    "    df = pd.DataFrame({'Celcius' : [i],'Fahrenhiet' : [f]})\n",
    "    df\n",
    "\n",
    "\n",
    "\n",
    "\n",
    "\n"
   ]
  },
  {
   "cell_type": "code",
   "execution_count": 32,
   "id": "21bb7ea2",
   "metadata": {},
   "outputs": [
    {
     "data": {
      "text/html": [
       "<div>\n",
       "<style scoped>\n",
       "    .dataframe tbody tr th:only-of-type {\n",
       "        vertical-align: middle;\n",
       "    }\n",
       "\n",
       "    .dataframe tbody tr th {\n",
       "        vertical-align: top;\n",
       "    }\n",
       "\n",
       "    .dataframe thead th {\n",
       "        text-align: right;\n",
       "    }\n",
       "</style>\n",
       "<table border=\"1\" class=\"dataframe\">\n",
       "  <thead>\n",
       "    <tr style=\"text-align: right;\">\n",
       "      <th></th>\n",
       "      <th>Celcius</th>\n",
       "      <th>Fahrenhiet</th>\n",
       "    </tr>\n",
       "  </thead>\n",
       "  <tbody>\n",
       "    <tr>\n",
       "      <th>0</th>\n",
       "      <td>0</td>\n",
       "      <td>32</td>\n",
       "    </tr>\n",
       "    <tr>\n",
       "      <th>1</th>\n",
       "      <td>10</td>\n",
       "      <td>50</td>\n",
       "    </tr>\n",
       "    <tr>\n",
       "      <th>2</th>\n",
       "      <td>20</td>\n",
       "      <td>68</td>\n",
       "    </tr>\n",
       "    <tr>\n",
       "      <th>3</th>\n",
       "      <td>30</td>\n",
       "      <td>86</td>\n",
       "    </tr>\n",
       "    <tr>\n",
       "      <th>4</th>\n",
       "      <td>40</td>\n",
       "      <td>104</td>\n",
       "    </tr>\n",
       "    <tr>\n",
       "      <th>5</th>\n",
       "      <td>50</td>\n",
       "      <td>122</td>\n",
       "    </tr>\n",
       "    <tr>\n",
       "      <th>6</th>\n",
       "      <td>60</td>\n",
       "      <td>140</td>\n",
       "    </tr>\n",
       "    <tr>\n",
       "      <th>7</th>\n",
       "      <td>70</td>\n",
       "      <td>158</td>\n",
       "    </tr>\n",
       "    <tr>\n",
       "      <th>8</th>\n",
       "      <td>80</td>\n",
       "      <td>176</td>\n",
       "    </tr>\n",
       "    <tr>\n",
       "      <th>9</th>\n",
       "      <td>90</td>\n",
       "      <td>194</td>\n",
       "    </tr>\n",
       "    <tr>\n",
       "      <th>10</th>\n",
       "      <td>100</td>\n",
       "      <td>212</td>\n",
       "    </tr>\n",
       "  </tbody>\n",
       "</table>\n",
       "</div>"
      ],
      "text/plain": [
       "    Celcius  Fahrenhiet\n",
       "0         0          32\n",
       "1        10          50\n",
       "2        20          68\n",
       "3        30          86\n",
       "4        40         104\n",
       "5        50         122\n",
       "6        60         140\n",
       "7        70         158\n",
       "8        80         176\n",
       "9        90         194\n",
       "10      100         212"
      ]
     },
     "execution_count": 32,
     "metadata": {},
     "output_type": "execute_result"
    }
   ],
   "source": [
    "import pandas as pd\n",
    "df = pd.DataFrame({'Celcius' : [0,10,20,30,40,50,60,70,80,90,100],'Fahrenhiet' : [32,50,68,86,104,122,140,158,176,194,212]})\n",
    "df"
   ]
  },
  {
   "cell_type": "code",
   "execution_count": 38,
   "id": "81c50547",
   "metadata": {},
   "outputs": [
    {
     "name": "stdout",
     "output_type": "stream",
     "text": [
      "Enter the String:madam\n",
      "The String madam is a palindrome\n"
     ]
    }
   ],
   "source": [
    "#program that reads a string from the user and uses a loop to determine whether or not it is a palindrome\n",
    "\n",
    "def palindrome():\n",
    "    str1=input(\"Enter the String:\")\n",
    "    rev=str1[::-1]\n",
    "    for i in range (len(str1)):\n",
    "        if str1[i]!=rev[i]:\n",
    "            print('The String',str1,'is not a palindrome')\n",
    "            break\n",
    "    else:\n",
    "        print('The String',str1,'is a palindrome')\n",
    "            \n",
    "    return\n",
    "\n",
    "palindrome()"
   ]
  },
  {
   "cell_type": "code",
   "execution_count": 40,
   "id": "01be6e1e",
   "metadata": {},
   "outputs": [
    {
     "name": "stdout",
     "output_type": "stream",
     "text": [
      "Enter a positive integer:8\n",
      "Enter another positive integer:5\n",
      "The GCD of 8 and 5 is 1\n"
     ]
    }
   ],
   "source": [
    "# greatest common divisor (GCD) of two positive integers, n and m,\n",
    "\n",
    "def gcd():\n",
    "    n  = int (input (\"Enter a positive integer:\"))\n",
    "    m  = int (input (\"Enter another positive integer:\"))\n",
    "\n",
    "    d  = min (n,m)\n",
    "\n",
    "    while n % d != 0 or m % d != 0:\n",
    "        d = d -1\n",
    "        \n",
    "    print (\"The GCD of\", n,\"and\", m, \"is\",d)\n",
    "    \n",
    "    return\n",
    "gcd()\n",
    "\n"
   ]
  },
  {
   "cell_type": "code",
   "execution_count": 43,
   "id": "7537c3be",
   "metadata": {},
   "outputs": [
    {
     "name": "stdout",
     "output_type": "stream",
     "text": [
      "Enter the Binary Number: 111\n",
      "Decimal Equivalent: 7\n"
     ]
    }
   ],
   "source": [
    "#program to convert binary to decimal\n",
    "\n",
    "def bintodec():\n",
    "    binary = input(\"Enter the Binary Number: \")\n",
    "    dec = 0\n",
    "    m = 1\n",
    "\n",
    "    for digit in binary:\n",
    "        digit= int(digit)\n",
    "        dec = dec + (digit * m)\n",
    "        m = m * 2\n",
    "    print('Decimal Equivalent:',dec)\n",
    "\n",
    "    return\n",
    "bintodec()\n",
    "    "
   ]
  },
  {
   "cell_type": "code",
   "execution_count": 52,
   "id": "df488c01",
   "metadata": {},
   "outputs": [
    {
     "name": "stdout",
     "output_type": "stream",
     "text": [
      "Data Science Python programming\n",
      "1.123\n",
      "This is the 3 challenge of Data Science course and 100 more challenges yet to come.\n"
     ]
    }
   ],
   "source": [
    "#Demonstrate the formatting capabilities of format function on integers, floats and strings.\n",
    "\n",
    "def formatting():\n",
    "    #formatting on String\n",
    "    first = \"Data Science\"\n",
    "    second = \"Python programming\"\n",
    "    print('{} {}'.format(first, second))\n",
    "    \n",
    "    #formatting on floats printing upto 3 decimal places\n",
    "    print(\"{0:.3f}\".format(1.123456))\n",
    "    \n",
    "    #formatting on integer\n",
    "    print(\"This is the {} challenge of Data Science course and {} more challenges yet to come.\".format(3, 100))\n",
    "    \n",
    "    return\n",
    "\n",
    "formatting()"
   ]
  },
  {
   "cell_type": "code",
   "execution_count": 58,
   "id": "6266c5ac",
   "metadata": {},
   "outputs": [
    {
     "name": "stdout",
     "output_type": "stream",
     "text": [
      "Enter the number for calculating the prime factors :\n",
      "112\n",
      "2.0\n",
      "2.0\n",
      "2.0\n",
      "2.0\n",
      "7.0\n"
     ]
    }
   ],
   "source": [
    "#prime factorization of an integer \n",
    " \n",
    "import math\n",
    "\n",
    "def primefactors():\n",
    "    \n",
    "    n = int(input(\"Enter the number for calculating the prime factors :\\n\"))\n",
    "    \n",
    "    #for Even number\n",
    "    while n % 2 == 0:\n",
    "        print (2.0)\n",
    "        n = n / 2\n",
    "    \n",
    "    #for Odd number\n",
    "    for i in range(3,int(math.sqrt(n))+1,2):\n",
    "        while (n % i == 0):\n",
    "            print (i)\n",
    "            n = n / i\n",
    "    \n",
    "    if n > 2:\n",
    "        print (n)\n",
    " \n",
    "    \n",
    "    \n",
    "    return\n",
    "\n",
    "primefactors()\n"
   ]
  },
  {
   "cell_type": "code",
   "execution_count": null,
   "id": "850b17d3",
   "metadata": {},
   "outputs": [],
   "source": []
  }
 ],
 "metadata": {
  "kernelspec": {
   "display_name": "Python 3 (ipykernel)",
   "language": "python",
   "name": "python3"
  },
  "language_info": {
   "codemirror_mode": {
    "name": "ipython",
    "version": 3
   },
   "file_extension": ".py",
   "mimetype": "text/x-python",
   "name": "python",
   "nbconvert_exporter": "python",
   "pygments_lexer": "ipython3",
   "version": "3.9.7"
  }
 },
 "nbformat": 4,
 "nbformat_minor": 5
}
