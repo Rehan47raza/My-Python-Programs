{
 "cells": [
  {
   "cell_type": "code",
   "execution_count": 4,
   "id": "8fa1ee0a",
   "metadata": {},
   "outputs": [
    {
     "name": "stdout",
     "output_type": "stream",
     "text": [
      "1D Array of Strings\n",
      "[1.5 2.5 3.5 4.5 5.5 6.5]\n",
      "2D Array of Strings\n",
      "[['ab' 'bc' 'cd' 'de' 'ef']\n",
      " ['fg' 'gh' 'hi' 'ij' 'jk']]\n"
     ]
    }
   ],
   "source": [
    "#Create two numpy arrays.\n",
    "\n",
    "import numpy as np\n",
    "\n",
    "print('1D Array of Strings')\n",
    "arr1=np.array([1.5,2.5,3.5,4.5,5.5,6.5])\n",
    "\n",
    "print(arr1)\n",
    "\n",
    "print('2D Array of Strings')\n",
    "arr2=np.array([['ab','bc','cd','de','ef'],['fg','gh','hi','ij','jk']])\n",
    "\n",
    "print(arr2)\n"
   ]
  },
  {
   "cell_type": "code",
   "execution_count": 9,
   "id": "04895033",
   "metadata": {},
   "outputs": [
    {
     "name": "stdout",
     "output_type": "stream",
     "text": [
      "float64\n",
      "<U2\n",
      "(6,)\n",
      "(2, 5)\n",
      "[[1.5 2.5 3.5]\n",
      " [4.5 5.5 6.5]]\n",
      "['ab' 'bc' 'cd' 'de' 'ef' 'fg' 'gh' 'hi' 'ij' 'jk']\n"
     ]
    }
   ],
   "source": [
    "#For the arrays arr1 and arr2 created in Q.No.1, display the following properties:\n",
    "\n",
    "import numpy as np\n",
    "\n",
    "print(arr1.dtype)\n",
    "print(arr2.dtype)\n",
    "\n",
    "\n",
    "print(arr1.shape)\n",
    "print(arr2.shape)\n",
    "\n",
    "a1=arr1.reshape(2,3)\n",
    "print(a1)\n",
    "\n",
    "a2=arr2.reshape(-1)\n",
    "print(a2)\n",
    "\n",
    "\n"
   ]
  },
  {
   "cell_type": "code",
   "execution_count": 14,
   "id": "a0b14727",
   "metadata": {},
   "outputs": [
    {
     "name": "stdout",
     "output_type": "stream",
     "text": [
      "2D array with 0:\n",
      "[[0 0 0 0]\n",
      " [0 0 0 0]\n",
      " [0 0 0 0]]\n",
      "1D array with 1:\n",
      "[1 1 1 1 1 1]\n"
     ]
    }
   ],
   "source": [
    "#Create a two dimensional array called arr3, of 3 rows and 4 columns which is initialized to zeroes.\n",
    "\n",
    "import numpy as np\n",
    "\n",
    "print('2D array with 0:')\n",
    "arr3=np.zeros([3,4],dtype=int)\n",
    "print(arr3)\n",
    "\n",
    "print('1D array with 1:')\n",
    "arr4=np.ones(6,dtype=int)\n",
    "print(arr4)\n",
    "\n",
    "\n",
    "\n",
    "\n",
    "\n",
    "\n"
   ]
  },
  {
   "cell_type": "code",
   "execution_count": 21,
   "id": "24403966",
   "metadata": {},
   "outputs": [
    {
     "name": "stdout",
     "output_type": "stream",
     "text": [
      "[10, 20, 30, 40, 50]\n",
      "Array 5:\n",
      "[10. 20. 30. 40. 50.]\n",
      "Array 6:\n",
      "[10. 20. 30. 40. 50.]\n"
     ]
    }
   ],
   "source": [
    "#list1 with the elements 10,20,30,40,50.\n",
    "\n",
    "import numpy as np\n",
    "\n",
    "list1=[10,20,30,40,50]\n",
    "\n",
    "arr5=np.asarray(list1,dtype=float)\n",
    "\n",
    "\n",
    "print(list1)\n",
    "print('Array 5:')\n",
    "print(arr5)\n",
    "\n",
    "print('Array 6:')\n",
    "arr6=np.fromiter(list1,dtype=float)\n",
    "print(arr6)\n",
    "\n",
    "\n",
    "\n",
    "\n"
   ]
  },
  {
   "cell_type": "code",
   "execution_count": 25,
   "id": "af718d0c",
   "metadata": {},
   "outputs": [
    {
     "name": "stdout",
     "output_type": "stream",
     "text": [
      "[12 15 18 21 24 27 30 33 36 39 42 45 48 51 54 57 60 63 66 69 72 75 78 81\n",
      " 84 87 90 93 96]\n",
      "[12.         13.7755102  15.55102041 17.32653061 19.10204082 20.87755102\n",
      " 22.65306122 24.42857143 26.20408163 27.97959184 29.75510204 31.53061224\n",
      " 33.30612245 35.08163265 36.85714286 38.63265306 40.40816327 42.18367347\n",
      " 43.95918367 45.73469388 47.51020408 49.28571429 51.06122449 52.83673469\n",
      " 54.6122449  56.3877551  58.16326531 59.93877551 61.71428571 63.48979592\n",
      " 65.26530612 67.04081633 68.81632653 70.59183673 72.36734694 74.14285714\n",
      " 75.91836735 77.69387755 79.46938776 81.24489796 83.02040816 84.79591837\n",
      " 86.57142857 88.34693878 90.12244898 91.89795918 93.67346939 95.44897959\n",
      " 97.2244898  99.        ]\n"
     ]
    }
   ],
   "source": [
    "#Create a numpy array called arr7 using the method arange.\n",
    "\n",
    "import numpy as np\n",
    "\n",
    "arr7=np.arange(12,99,3,int)\n",
    "print(arr7)\n",
    "\n",
    "arr8=np.linspace(12,99,50)\n",
    "print(arr8)"
   ]
  },
  {
   "cell_type": "code",
   "execution_count": 27,
   "id": "1609fa8a",
   "metadata": {},
   "outputs": [
    {
     "name": "stdout",
     "output_type": "stream",
     "text": [
      "2D Array of Strings\n",
      "[['ab' 'bc' 'cd' 'de' 'ef']\n",
      " ['fg' 'gh' 'hi' 'ij' 'jk']]\n",
      "[['ab' 'bc' 'cd' 'de' 'ef']]\n",
      "ij\n",
      "['fg' 'gh' 'hi' 'ij' 'jk']\n"
     ]
    }
   ],
   "source": [
    "#In the array arr2 defined in Q.No. 1,\n",
    "\n",
    "print('2D Array of Strings')\n",
    "arr2=np.array([['ab','bc','cd','de','ef'],['fg','gh','hi','ij','jk']])\n",
    "\n",
    "print(arr2)\n",
    "\n",
    "print(arr2[0:1])\n",
    "\n",
    "print(arr2[1][3])\n",
    "\n",
    "print (arr2[1])\n",
    "\n"
   ]
  },
  {
   "cell_type": "code",
   "execution_count": 35,
   "id": "9c763495",
   "metadata": {},
   "outputs": [
    {
     "name": "stdout",
     "output_type": "stream",
     "text": [
      "[[101 322 768]\n",
      " [233 124 390]\n",
      " [534 122 216]]\n",
      "Displaying the required array using advanced indexing:\n",
      "[101 322 390 122]\n",
      "using Indexing:\n",
      "[[322 768]\n",
      " [124 390]]\n"
     ]
    }
   ],
   "source": [
    "#Create a two dimensional array called arr9 \n",
    "\n",
    "import numpy as np\n",
    "\n",
    "arr9=np.array([[101, 322, 768], [233, 124, 390], [534, 122, 216]])\n",
    "print(arr9)\n",
    "\n",
    "print('Displaying the required array using advanced indexing:')\n",
    "arr10=arr9[[0,0,1,2],[0,1,2,1]]\n",
    "print(arr10)\n",
    "\n",
    "print('using Indexing:')\n",
    "arr11=arr9[0:2,1:3]\n",
    "print(arr11)\n"
   ]
  },
  {
   "cell_type": "code",
   "execution_count": 41,
   "id": "68bc9241",
   "metadata": {},
   "outputs": [
    {
     "name": "stdout",
     "output_type": "stream",
     "text": [
      "[[101 322 768]\n",
      " [233 124 390]\n",
      " [534 122 216]]\n",
      "Boolean Indexing :\n",
      "[322 768 233 390 534 216]\n",
      "Not a number:\n",
      "[101 322 768 233 124 390 534 122 216]\n",
      "\n",
      "[101 322 768 233 124 390 534 122 216]\n",
      "Non float Elements:\n",
      "[[[101 322 768]\n",
      "  [233 124 390]\n",
      "  [534 122 216]]]\n",
      "Broadcasting:\n",
      "First+Second:\n",
      "[[111 342 798]\n",
      " [243 144 420]\n",
      " [544 142 246]]\n"
     ]
    }
   ],
   "source": [
    "#From array arr9 created in Q.No. 7,\n",
    "\n",
    "import numpy as np\n",
    "\n",
    "arr9=np.array([[101, 322, 768], [233, 124, 390], [534, 122, 216]])\n",
    "print(arr9)\n",
    "\n",
    "print('Boolean Indexing :')\n",
    "print(arr9[arr9>200])\n",
    "\n",
    "print('Not a number:')\n",
    "print(arr9[~np.isnan(arr9)])\n",
    "print()\n",
    "print(arr9[~np.isnan(arr9)])\n",
    "print('Non float Elements:')\n",
    "print(arr9[arr9.dtype!='float'])\n",
    "\n",
    "\n",
    "print('Broadcasting:')\n",
    "arr11=np.array([10,20,30])\n",
    "\n",
    "print('First+Second:')\n",
    "print(arr9+arr11)\n"
   ]
  },
  {
   "cell_type": "code",
   "execution_count": 48,
   "id": "f73ba0f7",
   "metadata": {},
   "outputs": [
    {
     "name": "stdout",
     "output_type": "stream",
     "text": [
      "[[101 322 768]\n",
      " [233 124 390]\n",
      " [534 122 216]]\n",
      "After Transpose\n",
      "[[101 233 534]\n",
      " [322 124 122]\n",
      " [768 390 216]]\n",
      "joining of the array1 and array4 along axis 0:\n",
      "[1.5 2.5 3.5 4.5 5.5 6.5 1.  1.  1.  1.  1.  1. ]\n"
     ]
    }
   ],
   "source": [
    "#For the array arr9, find its transpose\n",
    "\n",
    "import numpy as np\n",
    "\n",
    "arr9=np.array([[101, 322, 768], [233, 124, 390], [534, 122, 216]])\n",
    "print(arr9)\n",
    "\n",
    "print('After Transpose')\n",
    "print(arr9.T)\n",
    "\n",
    "print('joining of the array1 and array4 along axis 0:')\n",
    "\n",
    "arr1=np.array([1.5,2.5,3.5,4.5,5.5,6.5])\n",
    "\n",
    "#print(arr1)\n",
    "\n",
    "arr4=np.ones(6,dtype=int)\n",
    "#print(arr4)\n",
    "\n",
    "print(np.concatenate((arr1,arr4),axis=0))"
   ]
  },
  {
   "cell_type": "code",
   "execution_count": 56,
   "id": "c947957a",
   "metadata": {},
   "outputs": [
    {
     "name": "stdout",
     "output_type": "stream",
     "text": [
      "hstack:\n",
      "[[1 2 0 0]\n",
      " [3 4 1 1]\n",
      " [5 6 2 2]]\n",
      "vstack:\n",
      "[[1 2]\n",
      " [3 4]\n",
      " [5 6]\n",
      " [0 0]\n",
      " [1 1]\n",
      " [2 2]]\n",
      "hsplit and vsplit:\n",
      "[[ 0  1  2  3]\n",
      " [ 4  5  6  7]\n",
      " [ 8  9 10 11]\n",
      " [12 13 14 15]\n",
      " [16 17 18 19]]\n",
      "hsplit:\n",
      "[array([[ 0,  1],\n",
      "       [ 4,  5],\n",
      "       [ 8,  9],\n",
      "       [12, 13],\n",
      "       [16, 17]]), array([[ 2,  3],\n",
      "       [ 6,  7],\n",
      "       [10, 11],\n",
      "       [14, 15],\n",
      "       [18, 19]])]\n",
      "vsplit:\n",
      "[array([[ 0,  1,  2,  3],\n",
      "       [ 4,  5,  6,  7],\n",
      "       [ 8,  9, 10, 11],\n",
      "       [12, 13, 14, 15],\n",
      "       [16, 17, 18, 19]])]\n"
     ]
    }
   ],
   "source": [
    "#Using any two 2-dimensional arrays,\n",
    "\n",
    "import numpy as np\n",
    "\n",
    "print('hstack:')\n",
    "ar1 = np.array([[1, 2],\n",
    "                [3, 4],\n",
    "                [5, 6]])\n",
    "\n",
    "ar2 = np.array([[0, 0],\n",
    "                [1, 1],\n",
    "                [2, 2]])\n",
    "\n",
    "ar_h = np.hstack((ar1, ar2))\n",
    "\n",
    "print(ar_h)\n",
    "\n",
    "print('vstack:')\n",
    "ar1 = np.array([[1, 2],\n",
    "                [3, 4],\n",
    "                [5, 6]])\n",
    "\n",
    "ar2 = np.array([[0, 0],\n",
    "                [1, 1],\n",
    "                [2, 2]])\n",
    "\n",
    "ar_v = np.vstack((ar1, ar2))\n",
    "\n",
    "print(ar_v)\n",
    "\n",
    "\n",
    "print('hsplit and vsplit:')\n",
    "x = np.arange(20).reshape(5, 4)\n",
    "print(x)\n",
    "print('hsplit:')\n",
    "print(np.hsplit(x,2))\n",
    "print('vsplit:')\n",
    "print(np.vsplit(x,1))"
   ]
  },
  {
   "cell_type": "code",
   "execution_count": null,
   "id": "7e457f54",
   "metadata": {},
   "outputs": [],
   "source": []
  }
 ],
 "metadata": {
  "kernelspec": {
   "display_name": "Python 3 (ipykernel)",
   "language": "python",
   "name": "python3"
  },
  "language_info": {
   "codemirror_mode": {
    "name": "ipython",
    "version": 3
   },
   "file_extension": ".py",
   "mimetype": "text/x-python",
   "name": "python",
   "nbconvert_exporter": "python",
   "pygments_lexer": "ipython3",
   "version": "3.9.7"
  }
 },
 "nbformat": 4,
 "nbformat_minor": 5
}
