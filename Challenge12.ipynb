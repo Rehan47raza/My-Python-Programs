{
 "cells": [
  {
   "cell_type": "markdown",
   "id": "7a5b07f5",
   "metadata": {},
   "source": []
  },
  {
   "cell_type": "code",
   "execution_count": 30,
   "id": "e7c92bb5",
   "metadata": {},
   "outputs": [
    {
     "name": "stdout",
     "output_type": "stream",
     "text": [
      "Simple String: Welcome to python programming with String\n",
      "Multi line String:\n",
      "    This is challnege second.\n",
      "    This is a Data Science Course.\n",
      "    It is a skill lync program.\n",
      "This is the String variable\n",
      "Current Id of string: 2402678191568\n",
      "After Changing the String: Rhis is the String variable\n",
      "After changing the string Id is same hence immutable: 2402678191568\n"
     ]
    }
   ],
   "source": [
    "# To create simple and multi-line strings, and check whether a string can change after its creation.\n",
    "\n",
    "def multiline():\n",
    "    \n",
    "    simple_str='Welcome to python programming with String'\n",
    "    print('Simple String:',simple_str)\n",
    "    \n",
    "    multi_str= \"\"\"   This is challnege second.\n",
    "    This is a Data Science Course.\n",
    "    It is a skill lync program.\"\"\"\n",
    "    print('Multi line String:\\n',multi_str)\n",
    "    \n",
    "    multi_str='This is the String variable'\n",
    "    print(multi_str)\n",
    "    print('Current Id of string:',id(multi_str))\n",
    "    \n",
    "    print('After Changing the String:',multi_str.replace('T','R'))\n",
    "    print('After changing the string Id is same hence immutable:',id(multi_str))\n",
    "        \n",
    "    return\n",
    "\n",
    "multiline()\n",
    "\n",
    "\n"
   ]
  },
  {
   "cell_type": "code",
   "execution_count": 45,
   "id": "dda661b5",
   "metadata": {},
   "outputs": [
    {
     "name": "stdout",
     "output_type": "stream",
     "text": [
      "H W\n",
      "o o\n",
      "llo rld\n",
      "!dlroW olleH\n",
      "World!\n",
      "Hello\n"
     ]
    }
   ],
   "source": [
    "#given string ‘Hello World!’, extract the following:\n",
    "\n",
    "def Extract():\n",
    "    Str='Hello World!'\n",
    "    print(Str[0],Str[6])\n",
    "    print(Str[4],Str[7])\n",
    "    print(Str[2:5],Str[8:11])\n",
    "    print(Str[::-1])\n",
    "    print(Str[6:12])\n",
    "    print(Str[0:5])\n",
    "    return;\n",
    "\n",
    "Extract()\n",
    "    "
   ]
  },
  {
   "cell_type": "code",
   "execution_count": 67,
   "id": "e58384ed",
   "metadata": {},
   "outputs": [
    {
     "name": "stdout",
     "output_type": "stream",
     "text": [
      "Welcome contains only Alphabets? True\n",
      "Welcome is in lower case? False\n",
      "Welcome contains only aplahbets and not in lower case\n",
      "----------------------------------------------------------------------------------------------------\n",
      "Hello World! contains only Alphabets? False\n",
      "Hello World is in lower case? False\n",
      "Hello World! does not contains only aplahbets and not in lower case\n",
      "----------------------------------------------------------------------------------------------------\n",
      "String3 contains only Alphabets? False\n",
      "String3 is in lower case? False\n",
      "Does String3 it starts with Now True\n",
      "Does String3 ends with Now False\n",
      "----------------------------------------------------------------------------------------------------\n",
      "String4 contains only Alphabets? False\n",
      "String4 contains only digits? True\n",
      "----------------------------------------------------------------------------------------------------\n",
      "String5 contains only Alphabets? False\n",
      "String5 contains only digits? False\n",
      "String5 contains alphanumeric? False\n"
     ]
    }
   ],
   "source": [
    "'''\n",
    " For the following strings, determine which contain only alphabets, only digits, alphanumeric,\n",
    " which are in lowercase, and which are in uppercase. Also check whether str3 begins or ends with the word “Now”.\n",
    "\n",
    "Str1 = ‘Welcome’\n",
    "\n",
    "Str2 = ‘Hello World!’\n",
    "\n",
    "Str3 = ‘Now is the best time ever! ‘\n",
    "\n",
    "Str4 = ‘500017’\n",
    "\n",
    "Str5 = ‘IPhone 6’\n",
    "\n",
    "\n",
    "'''\n",
    "\n",
    "def Check():\n",
    "    Str1='Welcome'\n",
    "    print('Welcome contains only Alphabets?',Str1.isalpha())\n",
    "    print('Welcome is in lower case?',Str1.islower())\n",
    "    print('Welcome contains only aplahbets and not in lower case')\n",
    "    print('-'*100)      \n",
    "\n",
    "    Str2 ='Hello World!'\n",
    "    print('Hello World! contains only Alphabets?',Str2.isalpha())\n",
    "    print('Hello World is in lower case?',Str2.islower())\n",
    "    print('Hello World! does not contains only aplahbets and not in lower case')\n",
    "    print('-'*100) \n",
    "          \n",
    "    Str3 = 'Now is the best time ever!'\n",
    "    print('String3 contains only Alphabets?',Str3.isalpha())\n",
    "    print('String3 is in lower case?',Str3.islower())\n",
    "    print('Does String3 it starts with Now',Str3.startswith('Now'))\n",
    "    print('Does String3 ends with Now',Str3.endswith('Now'))\n",
    "          \n",
    "    print('-'*100)\n",
    "    \n",
    "    Str4 = '500017'\n",
    "    print('String4 contains only Alphabets?',Str4.isalpha())\n",
    "    print('String4 contains only digits?',Str4.isdigit())\n",
    "    \n",
    "    print('-'*100)\n",
    "    \n",
    "    Str5 = 'IPhone 6'\n",
    "    print('String5 contains only Alphabets?',Str5.isalpha())\n",
    "    print('String5 contains only digits?',Str5.isdigit())\n",
    "    print('String5 contains alphanumeric?',Str5.isalnum())\n",
    "    \n",
    "    \n",
    "    return\n",
    "    \n",
    "    \n",
    "\n",
    "Check()\n"
   ]
  },
  {
   "cell_type": "code",
   "execution_count": 27,
   "id": "70b94c92",
   "metadata": {},
   "outputs": [
    {
     "name": "stdout",
     "output_type": "stream",
     "text": [
      "Enter any Sentence:come\n",
      "The String in title case: Come\n"
     ]
    }
   ],
   "source": [
    "# Accept a sentence from the user. Convert the case of the input into title case\n",
    "\n",
    "def converttotitle():\n",
    "  \n",
    "    str1=input('Enter any Sentence:')\n",
    "  \n",
    "    if str1.isdigit():\n",
    "        print('Please enter a sentence:')\n",
    "        return\n",
    "    \n",
    "    if str1.istitle():\n",
    "        print('Given String is already in title case:')\n",
    "        return\n",
    "    \n",
    "        \n",
    "    str2=str1.title()\n",
    "    print('The String in title case:',str2)\n",
    "    \n",
    "\n",
    "converttotitle()\n"
   ]
  },
  {
   "cell_type": "code",
   "execution_count": 32,
   "id": "43b86c6e",
   "metadata": {},
   "outputs": [
    {
     "name": "stdout",
     "output_type": "stream",
     "text": [
      "Enter any integer:-50\n",
      "Given integer is Even\n"
     ]
    }
   ],
   "source": [
    " #program that reads an integer from the user.\n",
    "#Then your program should display a message indicating whether the integer is even or odd.\n",
    "\n",
    "def evenodd():\n",
    "    i=int(input('Enter any integer:'))\n",
    "    \n",
    "    if i%2==0:\n",
    "        print('Given integer is Even')\n",
    "        \n",
    "    else:\n",
    "        print('Given integer is Odd')\n",
    "        \n",
    "    return\n",
    "\n",
    "evenodd()\n",
    "    \n",
    "\n"
   ]
  },
  {
   "cell_type": "code",
   "execution_count": 55,
   "id": "d193afda",
   "metadata": {},
   "outputs": [
    {
     "name": "stdout",
     "output_type": "stream",
     "text": [
      "Enter the character:@\n",
      "Enter the valid character\n"
     ]
    }
   ],
   "source": [
    "#program to check for vowel or consonant\n",
    "\n",
    "def Vowcons():\n",
    "    ch=input('Enter the character:')\n",
    "    if ch.isalpha():\n",
    "        if ch =='a' or ch =='e' or ch=='i' or ch=='o' or ch=='u' or ch=='A' or ch =='E' or ch=='I' or ch=='O' or ch=='U':\n",
    "            print('Enetred letter is a vowel')\n",
    "            \n",
    "        else:\n",
    "            print('Entered letter is consonant')\n",
    "    else:\n",
    "        print('Enter the valid character')\n",
    "            \n",
    "    \n",
    "        \n",
    "    \n",
    "    return\n",
    "\n",
    "Vowcons()\n",
    "        "
   ]
  },
  {
   "cell_type": "code",
   "execution_count": 1,
   "id": "fc49ce20",
   "metadata": {},
   "outputs": [
    {
     "name": "stdout",
     "output_type": "stream",
     "text": [
      "Enter the month of the year:DECEMBER\n",
      "Given month has 31 days\n"
     ]
    }
   ],
   "source": [
    "#program that reads the name of a month from the user as a string.program should display the number of days in that month\n",
    "\n",
    "def Displaydays():\n",
    "    m=input('Enter the month of the year:')\n",
    "    M=m.lower()\n",
    " \n",
    "    if M=='january' or M=='march' or M=='may' or M=='July' or M=='august' or M=='october' or M=='december':\n",
    "            print('Given month has 31 days')\n",
    "            if M=='april' or M=='june' or M=='september' or M=='november':\n",
    "                print('Given month has 30 days')\n",
    "                if M=='february':\n",
    "                    print('Given month has 28 or 29 days depending upon leap year')\n",
    "    else:\n",
    "        print('Invalid Month:Try Again')\n",
    "        \n",
    "    return\n",
    "\n",
    "Displaydays()\n",
    "    \n",
    "\n",
    "\n"
   ]
  },
  {
   "cell_type": "code",
   "execution_count": 14,
   "id": "61462a41",
   "metadata": {},
   "outputs": [
    {
     "name": "stdout",
     "output_type": "stream",
     "text": [
      "Enter the first side of a triangle:1\n",
      "Enter the second side of a triangle:2\n",
      "Enter the third side of a triangle:3\n",
      "Given Triangle is a Scalene Triangle\n"
     ]
    }
   ],
   "source": [
    "#program to display the type of triangle\n",
    "\n",
    "def Triangle():\n",
    "    a=int(input('Enter the first side of a triangle:'))\n",
    "    b=int(input('Enter the second side of a triangle:'))\n",
    "    c=int(input('Enter the third side of a triangle:'))\n",
    "   \n",
    "        \n",
    "    if a==b==c:\n",
    "        print('Given traingale is an Equilateral Triangle')\n",
    "    elif a==b or b==c or c==a:\n",
    "        print('Given Triangle is an Isocelous triangle')\n",
    "        \n",
    "    else:\n",
    "            print('Given Triangle is a Scalene Triangle')\n",
    "\n",
    "            \n",
    "                \n",
    "    return\n",
    "\n",
    "Triangle()\n"
   ]
  },
  {
   "cell_type": "code",
   "execution_count": 22,
   "id": "25e34938",
   "metadata": {},
   "outputs": [
    {
     "name": "stdout",
     "output_type": "stream",
     "text": [
      "Enter any valid year:1900\n",
      "Year is not a leap year\n"
     ]
    }
   ],
   "source": [
    "#program to check given year is leap or not\n",
    "\n",
    "def leapyear():\n",
    "    Year=int(input('Enter any valid year:'))\n",
    "    \n",
    "    if (Year % 4) == 0:\n",
    "        if (Year % 100) == 0:\n",
    "            if (Year %\n",
    "                400) == 0:\n",
    "                print(\"Year is a leap year\")\n",
    "            else:\n",
    "                print(\"Year is not a leap year\")\n",
    "        else:\n",
    "            print(\"Year is a leap year\")\n",
    "    else:\n",
    "        print(\"Given year is not a leap year\")\n",
    "        \n",
    "    return\n",
    "leapyear()\n",
    "    \n",
    "    \n"
   ]
  },
  {
   "cell_type": "code",
   "execution_count": 35,
   "id": "ff51650c",
   "metadata": {},
   "outputs": [
    {
     "name": "stdout",
     "output_type": "stream",
     "text": [
      "Enter the coefficient a of Quadratic equation ax^2+bx+c:1.0\n",
      "Enter the coefficient b of Quadratic equation ax^2+bx+c:2.0\n",
      "Enter the coefficient c of Quadratic equation ax^2+bx+c:3.0\n",
      "Discriminant is : -8.0\n",
      "Roots are imaginary No real roots\n"
     ]
    }
   ],
   "source": [
    "#program to calculate the roots of quadratic equation\n",
    "import math\n",
    "def Roots():\n",
    "    a=float(input('Enter the coefficient a of Quadratic equation ax^2+bx+c:'))\n",
    "    b=float(input('Enter the coefficient b of Quadratic equation ax^2+bx+c:'))\n",
    "    c=float(input('Enter the coefficient c of Quadratic equation ax^2+bx+c:'))\n",
    "    d=b**2-4*a*c\n",
    "    print('Discriminant is :',d)\n",
    "    if d==0:\n",
    "        print('Roots are real and Equal')\n",
    "        x1=(-b+math.sqrt(abs(d)))/2*a\n",
    "        x2=(-b-math.sqrt(abs(d)))/2*a\n",
    "        print('two real Roots are:',x1,x2)\n",
    "    elif d>0:\n",
    "        print('Roots are real and unequal')\n",
    "        x1=(-b+math.sqrt(abs(d)))/2*a\n",
    "        x2=(-b-math.sqrt(abs(d)))/2*a\n",
    "        print('Two Real Roots are:',x1,x2)\n",
    "    else:\n",
    "        print('Roots are imaginary No real roots')\n",
    "        \n",
    "    return\n",
    "Roots()\n",
    "    \n",
    "    \n",
    "\n"
   ]
  },
  {
   "cell_type": "code",
   "execution_count": null,
   "id": "c085d603",
   "metadata": {},
   "outputs": [],
   "source": []
  }
 ],
 "metadata": {
  "kernelspec": {
   "display_name": "Python 3 (ipykernel)",
   "language": "python",
   "name": "python3"
  },
  "language_info": {
   "codemirror_mode": {
    "name": "ipython",
    "version": 3
   },
   "file_extension": ".py",
   "mimetype": "text/x-python",
   "name": "python",
   "nbconvert_exporter": "python",
   "pygments_lexer": "ipython3",
   "version": "3.9.7"
  }
 },
 "nbformat": 4,
 "nbformat_minor": 5
}
