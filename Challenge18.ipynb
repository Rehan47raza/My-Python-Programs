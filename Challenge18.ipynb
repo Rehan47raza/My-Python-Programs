{
 "cells": [
  {
   "cell_type": "code",
   "execution_count": 18,
   "id": "246b5644",
   "metadata": {},
   "outputs": [
    {
     "name": "stdout",
     "output_type": "stream",
     "text": [
      "Enter the first Integer:5\n",
      "Enter the second Integer:0\n",
      "division by zero\n"
     ]
    }
   ],
   "source": [
    "#Write a program that accepts two integers and displays the result of dividing the first number by the second number.\n",
    "\n",
    "def division():\n",
    "    num1=int(input('Enter the first Integer:'))\n",
    "    num2=int(input('Enter the second Integer:'))\n",
    "    res=num1/num2\n",
    "    print(res)\n",
    "    \n",
    "    return\n",
    "\n",
    "try:\n",
    "    division()\n",
    "    \n",
    "except ZeroDivisionError as e:\n",
    "    print(e)\n",
    "\n",
    "\n"
   ]
  },
  {
   "cell_type": "code",
   "execution_count": 16,
   "id": "c2084d5b",
   "metadata": {},
   "outputs": [
    {
     "name": "stdout",
     "output_type": "stream",
     "text": [
      "Enter the first Integer:5\n",
      "Enter the second Integer:0\n"
     ]
    },
    {
     "ename": "AssertionError",
     "evalue": "Denominator should not be zero",
     "output_type": "error",
     "traceback": [
      "\u001b[1;31m---------------------------------------------------------------------------\u001b[0m",
      "\u001b[1;31mAssertionError\u001b[0m                            Traceback (most recent call last)",
      "\u001b[1;32m~\\AppData\\Local\\Temp/ipykernel_17512/2374510797.py\u001b[0m in \u001b[0;36m<module>\u001b[1;34m\u001b[0m\n\u001b[0;32m      4\u001b[0m \u001b[0mnum1\u001b[0m\u001b[1;33m=\u001b[0m\u001b[0mint\u001b[0m\u001b[1;33m(\u001b[0m\u001b[0minput\u001b[0m\u001b[1;33m(\u001b[0m\u001b[1;34m'Enter the first Integer:'\u001b[0m\u001b[1;33m)\u001b[0m\u001b[1;33m)\u001b[0m\u001b[1;33m\u001b[0m\u001b[1;33m\u001b[0m\u001b[0m\n\u001b[0;32m      5\u001b[0m \u001b[0mnum2\u001b[0m\u001b[1;33m=\u001b[0m\u001b[0mint\u001b[0m\u001b[1;33m(\u001b[0m\u001b[0minput\u001b[0m\u001b[1;33m(\u001b[0m\u001b[1;34m'Enter the second Integer:'\u001b[0m\u001b[1;33m)\u001b[0m\u001b[1;33m)\u001b[0m\u001b[1;33m\u001b[0m\u001b[1;33m\u001b[0m\u001b[0m\n\u001b[1;32m----> 6\u001b[1;33m \u001b[1;32massert\u001b[0m \u001b[0mnum2\u001b[0m\u001b[1;33m!=\u001b[0m\u001b[1;36m0\u001b[0m\u001b[1;33m,\u001b[0m \u001b[1;34m'Denominator should not be zero'\u001b[0m\u001b[1;33m\u001b[0m\u001b[1;33m\u001b[0m\u001b[0m\n\u001b[0m\u001b[0;32m      7\u001b[0m \u001b[0mres\u001b[0m\u001b[1;33m=\u001b[0m\u001b[0mnum1\u001b[0m\u001b[1;33m/\u001b[0m\u001b[0mnum2\u001b[0m\u001b[1;33m\u001b[0m\u001b[1;33m\u001b[0m\u001b[0m\n\u001b[0;32m      8\u001b[0m \u001b[0mprint\u001b[0m\u001b[1;33m(\u001b[0m\u001b[0mres\u001b[0m\u001b[1;33m)\u001b[0m\u001b[1;33m\u001b[0m\u001b[1;33m\u001b[0m\u001b[0m\n",
      "\u001b[1;31mAssertionError\u001b[0m: Denominator should not be zero"
     ]
    }
   ],
   "source": [
    "#Implement the above program with the help of Assertion\n",
    "\n",
    "\n",
    "num1=int(input('Enter the first Integer:'))\n",
    "num2=int(input('Enter the second Integer:'))    \n",
    "assert num2!=0, 'Denominator should not be zero'\n",
    "res=num1/num2\n",
    "print(res)\n",
    "\n"
   ]
  },
  {
   "cell_type": "code",
   "execution_count": 6,
   "id": "56fcd56a",
   "metadata": {},
   "outputs": [
    {
     "name": "stdout",
     "output_type": "stream",
     "text": [
      "Enter the number of values:3\n",
      "Enter the number:2\n",
      "Squre is: 4\n",
      "Enter the number:3\n",
      "Squre is: 9\n",
      "Enter the number:-2\n",
      "Enter the positive value of n\n"
     ]
    }
   ],
   "source": [
    "#program that accepts n positive integers as input and prints their square.\n",
    "\n",
    "import sys\n",
    "\n",
    "def square():\n",
    "    n=int(input('Enter the number of values:'))\n",
    "    for i in range(n):\n",
    "        num=int(input('Enter the number:'))\n",
    "        try:\n",
    "            if num<0:\n",
    "                raise ValueError()\n",
    "                \n",
    "        except ValueError:\n",
    "            print('Enter the positive value of n')\n",
    "            break\n",
    "            \n",
    "        print('Squre is:',num*num)\n",
    "        \n",
    "    return\n",
    "\n",
    "square()\n",
    "        \n",
    "    \n",
    "    "
   ]
  },
  {
   "cell_type": "code",
   "execution_count": 1,
   "id": "b349b023",
   "metadata": {},
   "outputs": [
    {
     "name": "stdout",
     "output_type": "stream",
     "text": [
      "Énter the integer:5\n",
      "The factorial of Given number is : 120\n"
     ]
    }
   ],
   "source": [
    "#program that receives an integer as input and finds its factorial\n",
    "\n",
    "def fact():\n",
    "    \n",
    "    try:\n",
    "        num=int(input('Énter the integer:'))\n",
    "        if num<0:\n",
    "            raise ValueError()\n",
    "            \n",
    "        f=1\n",
    "        for i in range(1,num+1):\n",
    "            f=f*i\n",
    "        print('The factorial of Given number is :',f)\n",
    "        \n",
    "    except ValueError:\n",
    "        print('Negative factorial is not defined')\n",
    "        \n",
    "        \n",
    "        \n",
    "        \n",
    "    return\n",
    "\n",
    "fact()\n",
    "    \n",
    "    \n",
    "\n"
   ]
  },
  {
   "cell_type": "code",
   "execution_count": 12,
   "id": "b79f93a9",
   "metadata": {},
   "outputs": [
    {
     "name": "stdout",
     "output_type": "stream",
     "text": [
      "Enter any number to iterate:5\n",
      "0\n",
      "1\n",
      "2\n",
      "3\n",
      "4\n",
      "5\n"
     ]
    }
   ],
   "source": [
    "#Create an iterator that returns numbers, starting with 1, and each sequence will increase by one\n",
    "\n",
    "class MyNum():\n",
    "    def __init__(self,l):\n",
    "        self._limit=l\n",
    "        self._val=0\n",
    "        \n",
    "    def __iter__(self):\n",
    "        return self\n",
    "    \n",
    "    def __next__(self):\n",
    "        if self._val>self._limit:\n",
    "            raise StopIteration\n",
    "        else:\n",
    "            return_val=self._val\n",
    "            self._val+=1\n",
    "            \n",
    "        return return_val\n",
    "    \n",
    "\n",
    "num=int(input('Enter any number to iterate:'))\n",
    "for i in MyNum(num):\n",
    "    print('Iterator':i)\n",
    "        \n",
    "    "
   ]
  },
  {
   "cell_type": "code",
   "execution_count": 25,
   "id": "c09bc7d8",
   "metadata": {},
   "outputs": [
    {
     "name": "stdout",
     "output_type": "stream",
     "text": [
      "Enter the number :17\n",
      "Prime Numbers are: 2\n",
      "Prime Numbers are: 3\n",
      "Prime Numbers are: 5\n",
      "Prime Numbers are: 7\n",
      "Prime Numbers are: 11\n",
      "Prime Numbers are: 13\n",
      "Prime Numbers are: 17\n"
     ]
    }
   ],
   "source": [
    "#Write a program that implements iterator class called Prime and which prints prime numbers up to n.\n",
    "\n",
    "class Prime():\n",
    "    def __init__(self,l):\n",
    "        self.limit=l\n",
    "        self.current = 1\n",
    "\n",
    "    def __next__(self):\n",
    "        if self.current>self.limit:\n",
    "            raise StopIteration\n",
    "        else:\n",
    "            self.current = self.current + 1\n",
    "            while True:\n",
    "                for i in range(2, int(self.current/2 + 1)):\n",
    "                    if self.current % i == 0:\n",
    "                        self.current = self.current + 1\n",
    "                        break \n",
    "                else:\n",
    "                    break \n",
    "            return self.current\n",
    "\n",
    "    def __iter__(self):\n",
    "        return self\n",
    "    \n",
    "    \n",
    "num=float(input('Enter the number :'))\n",
    "for i in Prime(num-1):\n",
    "    print ('Prime Numbers are:',i)\n",
    "\n",
    "\n"
   ]
  },
  {
   "cell_type": "code",
   "execution_count": 22,
   "id": "e754c70a",
   "metadata": {},
   "outputs": [
    {
     "name": "stdout",
     "output_type": "stream",
     "text": [
      "Start Iterator\n",
      "Printing the object Given number of times:\n",
      "Object: 1\n",
      "Object: 2\n",
      "Object: 3\n",
      "Object: 4\n",
      "Object: 5\n",
      "Object: 6\n",
      "Object: 7\n",
      "Object: 8\n",
      "Object: 9\n",
      "Object: 10\n"
     ]
    }
   ],
   "source": [
    "#Define a class, Circle, which takes two arguments when defined — a sequence and a number\n",
    "\n",
    "class Circle():\n",
    "    def __init__(self,l):\n",
    "        self._limit=l\n",
    "        self._val=1\n",
    "        \n",
    "    def __iter__(self):\n",
    "        return self\n",
    "    \n",
    "    def __next__(self):\n",
    "        if self._val>self._limit:\n",
    "            raise StopIteration\n",
    "            \n",
    "        else:\n",
    "            return_val=self._val\n",
    "            self._val+=1\n",
    "            \n",
    "        return return_val\n",
    "    \n",
    "print('Start Iterator')\n",
    "print('Printing the object Given number of times:')\n",
    "for i in Circle(10):\n",
    "    print('Object:',i)\n",
    "        \n",
    "\n",
    "\n"
   ]
  },
  {
   "cell_type": "code",
   "execution_count": 15,
   "id": "8396e6c9",
   "metadata": {},
   "outputs": [
    {
     "name": "stdout",
     "output_type": "stream",
     "text": [
      "Enter any number to iterate:15\n",
      "10\n",
      "11\n",
      "12\n",
      "13\n",
      "14\n",
      "15\n"
     ]
    }
   ],
   "source": [
    "#Python program to demonstrate working of iterators using an example type that iterates from 10 to given value\n",
    "\n",
    "\n",
    "class MyNum():\n",
    "    def __init__(self,l):\n",
    "        self._limit=l\n",
    "        self._val=10\n",
    "        \n",
    "    def __iter__(self):\n",
    "        return self\n",
    "    \n",
    "    def __next__(self):\n",
    "        if self._val>self._limit:\n",
    "            raise StopIteration\n",
    "        else:\n",
    "            return_val=self._val\n",
    "            self._val+=1\n",
    "            \n",
    "        return return_val   \n",
    "\n",
    "num=int(input('Enter any number to iterate:'))\n",
    "for i in MyNum(num):\n",
    "    print(i)\n",
    "\n"
   ]
  },
  {
   "cell_type": "code",
   "execution_count": 17,
   "id": "dd645a7e",
   "metadata": {},
   "outputs": [
    {
     "name": "stdout",
     "output_type": "stream",
     "text": [
      "****************************************************************************************************\n",
      "Multiple Decorator\n",
      "****************************************************************************************************\n",
      "%%%%%%%%%%%%%%%%%%%%%%%%%%%%%%%%%%%%%%%%%%%%%%%%%%%%%%%%%%%%%%%%%%%%%%%%%%%%%%%%%%%%%%%%%%%%%%%%%%%%\n",
      "Multiple Decorator\n",
      "%%%%%%%%%%%%%%%%%%%%%%%%%%%%%%%%%%%%%%%%%%%%%%%%%%%%%%%%%%%%%%%%%%%%%%%%%%%%%%%%%%%%%%%%%%%%%%%%%%%%\n"
     ]
    }
   ],
   "source": [
    "#program to illustrate the concept of multiple decorators\n",
    "\n",
    "def Star(func):\n",
    "    def inner(*args,**kwargs):\n",
    "        print('*'*100)\n",
    "        func(*args,**kwargs)\n",
    "        print('*'*100)\n",
    "    return inner\n",
    "    \n",
    "def Percent(func):\n",
    "    def inner(*args,**kwargs):\n",
    "        print('%'*100)\n",
    "        func(*args,**kwargs)\n",
    "        print('%'*100)\n",
    "    return inner\n",
    "    \n",
    "@Star\n",
    "def Printer(msg):\n",
    "    print(msg)\n",
    "    \n",
    "    \n",
    "Printer('Multiple Decorator')\n",
    "\n",
    "@Percent\n",
    "def Printer(msg):\n",
    "    print(msg)\n",
    "    \n",
    "    \n",
    "Printer('Multiple Decorator')\n",
    "    \n",
    "    \n",
    "    \n",
    "        "
   ]
  },
  {
   "cell_type": "code",
   "execution_count": 20,
   "id": "eaec6365",
   "metadata": {},
   "outputs": [
    {
     "name": "stdout",
     "output_type": "stream",
     "text": [
      "Enter the number:6\n",
      "Execution Time::         0.0000069000secs\n",
      "720\n"
     ]
    }
   ],
   "source": [
    "#decorator called timer that calculates the time required to execute a function. \n",
    "\n",
    "import time\n",
    "def timer(func):\n",
    "    def calculate(*args,**kwargs):\n",
    "        start_time=time.perf_counter()\n",
    "        value=func(*args,**kwargs)\n",
    "        end_time=time.perf_counter()\n",
    "        runtime=end_time-start_time\n",
    "        print('Execution Time:: {0:20.10f}secs'.format(runtime))\n",
    "        return value\n",
    "    return calculate\n",
    "\n",
    "\n",
    "@timer\n",
    "def factorial(n):\n",
    "    fact=1\n",
    "    for i in range(n):\n",
    "        fact=fact*(i+1)\n",
    "        \n",
    "    return fact\n",
    "\n",
    "num=int(input('Enter the number:'))\n",
    "print(factorial(num))\n",
    "\n"
   ]
  },
  {
   "cell_type": "code",
   "execution_count": null,
   "id": "c20ddc60",
   "metadata": {},
   "outputs": [],
   "source": []
  },
  {
   "cell_type": "code",
   "execution_count": null,
   "id": "1cefce21",
   "metadata": {},
   "outputs": [],
   "source": []
  }
 ],
 "metadata": {
  "kernelspec": {
   "display_name": "Python 3 (ipykernel)",
   "language": "python",
   "name": "python3"
  },
  "language_info": {
   "codemirror_mode": {
    "name": "ipython",
    "version": 3
   },
   "file_extension": ".py",
   "mimetype": "text/x-python",
   "name": "python",
   "nbconvert_exporter": "python",
   "pygments_lexer": "ipython3",
   "version": "3.9.7"
  }
 },
 "nbformat": 4,
 "nbformat_minor": 5
}
