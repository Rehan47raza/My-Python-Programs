{
 "cells": [
  {
   "cell_type": "code",
   "execution_count": null,
   "id": "7e1d248d",
   "metadata": {},
   "outputs": [],
   "source": [
    "# program displaying name and email.\n",
    "\n",
    "def my_info():\n",
    "    name='Rehan Raza'\n",
    "    email='rehanraza260@gmail.com'\n",
    "    print(\"Name:{}\\nEmail:{}\".format(name,email))\n",
    "    return\n",
    "    \n",
    "my_info()"
   ]
  },
  {
   "cell_type": "code",
   "execution_count": null,
   "id": "7ddbef7e",
   "metadata": {},
   "outputs": [],
   "source": [
    "#program accepting the name from the user and displaying Hello.\n",
    "\n",
    "def hello():\n",
    "    name=str(input('Enter your name:'))\n",
    "    print('Hello',name)\n",
    "    return\n",
    "\n",
    "hello()"
   ]
  },
  {
   "cell_type": "code",
   "execution_count": 3,
   "id": "8756688f",
   "metadata": {},
   "outputs": [
    {
     "name": "stdout",
     "output_type": "stream",
     "text": [
      "Enter the radius of the circle1\n",
      "Area of Circle is: 3.141592653589793\n",
      "Circumference of Circle is: 6.283185307179586\n"
     ]
    }
   ],
   "source": [
    "#program accepting the radius of circle and calculating area and circumference.\n",
    "\n",
    "from math import pi\n",
    "def areacircum():\n",
    "    radius=float(input('Enter the radius of the circle'))\n",
    "    area=pi*radius*radius\n",
    "    circum=2*pi*radius\n",
    "    print('Area of Circle is:',area)\n",
    "    print('Circumference of Circle is:',circum)\n",
    "    return\n",
    "\n",
    "areacircum()\n",
    "\n",
    "    "
   ]
  },
  {
   "cell_type": "code",
   "execution_count": 4,
   "id": "5b555f31",
   "metadata": {},
   "outputs": [
    {
     "name": "stdout",
     "output_type": "stream",
     "text": [
      "Enter the length of the rectangle:1\n",
      "Enter the breadth of the Rectangle:2\n",
      "Area of the Rectangle is: 2.0\n",
      "Perimeter of the Rectangle is: 6.0\n"
     ]
    }
   ],
   "source": [
    "# Program accepting the length and breadth of the rectangle and calculate area and perimeter.\n",
    "\n",
    "def areaperim():\n",
    "    l=float(input('Enter the length of the rectangle:'))\n",
    "    b=float(input('Enter the breadth of the Rectangle:'))\n",
    "    area=l*b\n",
    "    peri=2*(l+b)\n",
    "    print('Area of the Rectangle is:',area)\n",
    "    print('Perimeter of the Rectangle is:',peri)\n",
    "    return\n",
    "\n",
    "areaperim()"
   ]
  },
  {
   "cell_type": "code",
   "execution_count": 5,
   "id": "bdb99340",
   "metadata": {},
   "outputs": [
    {
     "name": "stdout",
     "output_type": "stream",
     "text": [
      "Enter the side of Square:5\n",
      "Area of the Square is: 25.0\n",
      "Perimeter of the Square is: 20.0\n"
     ]
    }
   ],
   "source": [
    "#program accepting the side of square and calculating area and perimeter\n",
    "\n",
    "def areaperim():\n",
    "    s=float(input('Enter the side of Square:'))\n",
    "    area=s*s\n",
    "    peri=4*s\n",
    "    print('Area of the Square is:',area)\n",
    "    print('Perimeter of the Square is:',peri)\n",
    "    return\n",
    "\n",
    "areaperim()"
   ]
  },
  {
   "cell_type": "code",
   "execution_count": 6,
   "id": "07331dbd",
   "metadata": {},
   "outputs": [
    {
     "name": "stdout",
     "output_type": "stream",
     "text": [
      "Enter the temperature in Fahrenhiet2\n",
      "The temeprature in Celcius is : -16.666666666666668\n",
      "Enter the temperature in Celcius3\n",
      "The temeprature in Fahrenhiet is : 37.4\n"
     ]
    }
   ],
   "source": [
    "#program to convert temperature from celsius to fahrenhiet and viceversa\n",
    "\n",
    "def F2C():\n",
    "    f=float(input('Enter the temperature in Fahrenhiet'))\n",
    "    c=5*(f-32)/9\n",
    "    print('The temeprature in Celcius is :',c)\n",
    "    return\n",
    "\n",
    "F2C()\n",
    "\n",
    "\n",
    "def C2F():\n",
    "    c=float(input('Enter the temperature in Celcius'))\n",
    "    f=(c/5)*9+32\n",
    "    print('The temeprature in Fahrenhiet is :',f)\n",
    "    return\n",
    "\n",
    "C2F()\n"
   ]
  },
  {
   "cell_type": "code",
   "execution_count": 21,
   "id": "5f0bd995",
   "metadata": {},
   "outputs": [
    {
     "name": "stdout",
     "output_type": "stream",
     "text": [
      "Enter any positive integer:3\n",
      "Sum of all the integer upto n is : 6.0\n"
     ]
    }
   ],
   "source": [
    "#program to read n from user and calculate the sum of all the integer upto n\n",
    "\n",
    "def sum():\n",
    "    sum=0\n",
    "    n=int(input('Enter any positive integer:'))\n",
    "    sum=(n)*(n+1)/2\n",
    "    print('Sum of all the integer upto n is :',sum)\n",
    "    return\n",
    "\n",
    "sum()"
   ]
  },
  {
   "cell_type": "code",
   "execution_count": 24,
   "id": "775ef9e1",
   "metadata": {},
   "outputs": [
    {
     "name": "stdout",
     "output_type": "stream",
     "text": [
      "Enter the first Integer:5\n",
      "Enter the second Integer:2\n",
      "Sum is: 7\n",
      "Difference is: 3\n",
      "Product is : 10\n",
      "Quotient is: 2.5\n",
      "Remainder is: 1\n",
      "Power is : 25\n"
     ]
    }
   ],
   "source": [
    "#program to read two integer and perform mathematical operation\n",
    "\n",
    "def Arith():\n",
    "    a=int(input('Enter the first Integer:'))\n",
    "    b=int(input('Enter the second Integer:'))\n",
    "    \n",
    "    print('Sum is:',a+b)\n",
    "    print('Difference is:',a-b)\n",
    "    print('Product is :',a*b)\n",
    "    print('Quotient is:',a/b)\n",
    "    print('Remainder is:',a%b)\n",
    "    print('Power is :',a**b)\n",
    "    return\n",
    "\n",
    "Arith()"
   ]
  },
  {
   "cell_type": "code",
   "execution_count": 29,
   "id": "3d92539d",
   "metadata": {},
   "outputs": [
    {
     "name": "stdout",
     "output_type": "stream",
     "text": [
      "Enter the name:Raza\n",
      "Enter the Salary:2000\n",
      "Hi Raza\n",
      "Your Gross Salary is : 3200.0\n"
     ]
    }
   ],
   "source": [
    "#program to calculate dearness and House rent allowance\n",
    "\n",
    "def Allowance():\n",
    "    name=input('Enter the name:')\n",
    "    bs=float(input('Enter the Salary:'))\n",
    "    da=0.4*bs\n",
    "    hra=0.2*bs\n",
    "    gs=bs+da+hra\n",
    "    print('Hi',name)\n",
    "    print('Your Gross Salary is :',gs)\n",
    "    return\n",
    "\n",
    "Allowance()\n",
    "\n"
   ]
  },
  {
   "cell_type": "code",
   "execution_count": 1,
   "id": "bb9a3801",
   "metadata": {},
   "outputs": [
    {
     "name": "stdout",
     "output_type": "stream",
     "text": [
      "Enter the Complex Number in pattern of : a+bj\n",
      "Enter the first complex number1+2j\n",
      "Enter the second complex number2+3j\n",
      "Sum is: (3+5j)\n",
      "Difference is: (-1-1j)\n",
      "Product is: (-4+7j)\n"
     ]
    }
   ],
   "source": [
    "#program to perform arithmetic over complex number\n",
    "\n",
    "print(\"Enter the Complex Number in pattern of : a+bj\")\n",
    "def operation():\n",
    "    c1=complex(input('Enter the first complex number'))\n",
    "    c2=complex(input('Enter the second complex number'))\n",
    "    print('Sum is:',c1+c2)\n",
    "    print('Difference is:',c1-c2)\n",
    "    print('Product is:',c1*c2)\n",
    "    return\n",
    "\n",
    "operation()\n",
    "\n",
    "    \n",
    "\n",
    "    \n"
   ]
  },
  {
   "cell_type": "code",
   "execution_count": null,
   "id": "54dbd3d0",
   "metadata": {},
   "outputs": [],
   "source": []
  }
 ],
 "metadata": {
  "kernelspec": {
   "display_name": "Python 3 (ipykernel)",
   "language": "python",
   "name": "python3"
  },
  "language_info": {
   "codemirror_mode": {
    "name": "ipython",
    "version": 3
   },
   "file_extension": ".py",
   "mimetype": "text/x-python",
   "name": "python",
   "nbconvert_exporter": "python",
   "pygments_lexer": "ipython3",
   "version": "3.9.7"
  }
 },
 "nbformat": 4,
 "nbformat_minor": 5
}
