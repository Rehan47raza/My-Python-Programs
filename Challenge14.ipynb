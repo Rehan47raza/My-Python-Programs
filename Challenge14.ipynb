{
 "cells": [
  {
   "cell_type": "code",
   "execution_count": 1,
   "id": "f53ec6d9",
   "metadata": {},
   "outputs": [
    {
     "name": "stdout",
     "output_type": "stream",
     "text": [
      "{'Abhishek', 'Akash', 'Arun', 'Ajay', 'Abhinay'}\n",
      "{'Bala', 'Bindu', 'Binod', 'Brijesh'}\n"
     ]
    }
   ],
   "source": [
    "#program to separate the names into two sets\n",
    "\n",
    "def twosets():\n",
    "    my_set = {'Ajay', 'Binod', 'Arun', 'Akash','Bala','Abhinay','Brijesh','Abhishek','Bindu'}\n",
    "    set_A=set()\n",
    "    set_B=set()\n",
    "    for item in my_set:\n",
    "        if item.startswith('A'):\n",
    "            set_A.add(item)\n",
    "        elif item.startswith('B'):\n",
    "            set_B.add(item)\n",
    "            \n",
    "    print(set_A)\n",
    "    print(set_B)\n",
    "        \n",
    "    return\n",
    "\n",
    "twosets()\n",
    "\n"
   ]
  },
  {
   "cell_type": "code",
   "execution_count": 2,
   "id": "c304b70a",
   "metadata": {},
   "outputs": [
    {
     "name": "stdout",
     "output_type": "stream",
     "text": [
      "Item:Apple Price:25.9\n",
      "Item:Banana Price:15.2\n",
      "Item:Mango Price:50.9\n",
      "Item:Papaya Price:65.9\n",
      "Item:Guava Price:12.9\n"
     ]
    }
   ],
   "source": [
    "#list of tuples program to print each item and its price in a proper format\n",
    "\n",
    "def listoftup():\n",
    "    list_tup=[('Apple',25.90),('Banana',15.20),('Mango',50.90),('Papaya',65.90),('Guava',12.90)]\n",
    "    for item in list_tup:\n",
    "        print(\"Item:{} Price:{}\".format(item[0],item[1]))\n",
    "        \n",
    "    return\n",
    "listoftup()\n",
    "    \n",
    "    \n",
    "    "
   ]
  },
  {
   "cell_type": "code",
   "execution_count": 33,
   "id": "40fa8d29",
   "metadata": {},
   "outputs": [
    {
     "name": "stdout",
     "output_type": "stream",
     "text": [
      "Enter an integer(0 to quit):6\n",
      "Enter an integer(0 to quit):5\n",
      "Enter an integer(0 to quit):4\n",
      "Enter an integer(0 to quit):7\n",
      "Enter an integer(0 to quit):8\n",
      "Enter an integer(0 to quit):9\n",
      "Enter an integer(0 to quit):0\n",
      "4\n",
      "5\n",
      "6\n",
      "7\n",
      "8\n",
      "9\n"
     ]
    }
   ],
   "source": [
    "#program that reads integers from the user and stores them in a list and sort in ascending\n",
    "\n",
    "def listsort():\n",
    "    a = []\n",
    "    while True:\n",
    "        val = int(input(\"Enter an integer(0 to quit):\"))\n",
    "        if val != 0:\n",
    "            a.append(val)\n",
    "        else:\n",
    "            a.sort()\n",
    "            for i in a:\n",
    "                print(i)\n",
    "            break\n",
    "                    \n",
    "\n",
    "listsort()\n",
    "        "
   ]
  },
  {
   "cell_type": "code",
   "execution_count": 12,
   "id": "0d6b7dd3",
   "metadata": {},
   "outputs": [
    {
     "name": "stdout",
     "output_type": "stream",
     "text": [
      "Enter the list of numbers separated by space : 6 5 4 3 2 1 7\n",
      "Given list of numbers are: ['6', '5', '4', '3', '2', '1', '7']\n",
      "sorted list: ['1', '2', '3', '4', '5', '6', '7']\n",
      "['1', '2', '3', '4', '5', '6', '7']\n",
      "[None]\n",
      "[None]\n",
      "List after removing max and min elements: ['2', '3', '4', '5', '6']\n"
     ]
    }
   ],
   "source": [
    "#program to read a list of numbers from the user and remove the two largest and two smallest values from it.\n",
    "\n",
    "def readlist():\n",
    "    \n",
    "    elements = input(\"Enter the list of numbers separated by space : \")\n",
    "\n",
    "    list1 = list(elements.strip().split())\n",
    "    count=len(list1)\n",
    "    if count>5:\n",
    "        list3=[]\n",
    "        list4=[]\n",
    "        print('Given list of numbers are:',list1)\n",
    "        list2 = list(set(list1))\n",
    "        list2.sort()\n",
    "        print('sorted list:',list2)\n",
    "        list5=list2.copy()\n",
    "        print(list5)\n",
    "        list3.append(list5.remove(max(list5)))\n",
    "        list4.append(list5.remove(min(list5)))\n",
    "        print(list3)\n",
    "        print(list4)\n",
    "        print('List after removing max and min elements:',list5)\n",
    "        \n",
    "    else:\n",
    "        print('Enter more than 5 elements:')\n",
    "    \n",
    "    \n",
    "    \n",
    "    return\n",
    "\n",
    "\n",
    "readlist()\n",
    "\n",
    "\n"
   ]
  },
  {
   "cell_type": "code",
   "execution_count": 1,
   "id": "e65f9a46",
   "metadata": {},
   "outputs": [
    {
     "name": "stdout",
     "output_type": "stream",
     "text": [
      "Enter a word (Press Enter to quit):hi\n",
      "Enter a word Press Enter to quit):hwllo\n",
      "Enter a word Press Enter to quit):welcome\n",
      "Enter a word Press Enter to quit):\n",
      "hi\n",
      "hwllo\n",
      "welcome\n"
     ]
    }
   ],
   "source": [
    "#program that reads words from the user until the user enters a blank line.\n",
    "\n",
    "def readwords():\n",
    "    words = []\n",
    "    word = input(\"Enter a word (Press Enter to quit):\")\n",
    "    while word != \"\":\n",
    "        if word not in words:\n",
    "            words.append(word)\n",
    "\n",
    "        word = input (\"Enter a word Press Enter to quit):\")\n",
    "\n",
    "    for word in words:\n",
    "        print(word)\n",
    "\n",
    "    return\n",
    "readwords()"
   ]
  },
  {
   "cell_type": "code",
   "execution_count": 2,
   "id": "9d8f4be4",
   "metadata": {},
   "outputs": [
    {
     "name": "stdout",
     "output_type": "stream",
     "text": [
      "Enter the String:Hello World!\n",
      "The unique characters are: {'H': 1, 'e': 1, 'l': 3, 'o': 2, ' ': 1, 'W': 1, 'r': 1, 'd': 1, '!': 1}\n",
      "Total number of unique charcters are: 9\n"
     ]
    }
   ],
   "source": [
    "#program that determines and displays the number of unique characters in a string entered by the user.\n",
    "\n",
    "def unique():\n",
    "    sent=input('Enter the String:')\n",
    "    d=dict()\n",
    "    count=0\n",
    "    for c in sent:\n",
    "        if c not in d:\n",
    "            d[c]=1\n",
    "        else:\n",
    "            d[c]+=1\n",
    "    print('The unique characters are:',d)\n",
    "    \n",
    "    for key in d:\n",
    "        if d[key]>=1:\n",
    "            count+=1\n",
    "    print('Total number of unique charcters are:',count)\n",
    "    \n",
    "    return\n",
    "unique()\n",
    "\n",
    "\n"
   ]
  },
  {
   "cell_type": "code",
   "execution_count": 1,
   "id": "872eff57",
   "metadata": {},
   "outputs": [
    {
     "name": "stdout",
     "output_type": "stream",
     "text": [
      "Enter the String:evil\n",
      "Enter another String:live\n",
      "The strings are anagrams.\n"
     ]
    }
   ],
   "source": [
    "#Create a program that reads two strings from the user, determines whether or not they are anagrams, and reports the result.\n",
    "\n",
    "def anagram():\n",
    "    \n",
    "    s1=input('Enter the String:')\n",
    "    s2=input('Enter another String:')\n",
    "    \n",
    "    if(sorted(s1)== sorted(s2)):\n",
    "        print(\"The strings are anagrams.\")\n",
    "    else:\n",
    "        print(\"The strings aren't anagrams.\")  \n",
    "    \n",
    "    \n",
    "    return\n",
    "\n",
    "anagram()\n",
    "\n",
    "\n"
   ]
  },
  {
   "cell_type": "code",
   "execution_count": 8,
   "id": "d21150ce",
   "metadata": {},
   "outputs": [
    {
     "name": "stdout",
     "output_type": "stream",
     "text": [
      "Enter the number:28\n",
      "True\n"
     ]
    }
   ],
   "source": [
    "#program that determines whether or not a positive integer is perfect. \n",
    "\n",
    "def perfect():\n",
    "    num=int(input('Enter the number:'))\n",
    "    sum=0\n",
    "    for i in range(1,num,1):\n",
    "        if num%i==0:\n",
    "            sum+=i\n",
    "            \n",
    "    if sum==num:\n",
    "        print('True')\n",
    "        \n",
    "    else:\n",
    "        print('False')\n",
    "    \n",
    "    \n",
    "    \n",
    "    return\n",
    "\n",
    "perfect()\n",
    "\n",
    "\n"
   ]
  },
  {
   "cell_type": "code",
   "execution_count": 9,
   "id": "30724ca6",
   "metadata": {},
   "outputs": [
    {
     "name": "stdout",
     "output_type": "stream",
     "text": [
      "Enter the integer Press 0 to Exit:1\n",
      "Enter the integer Press 0 to Exit:2\n",
      "Enter the integer Press 0 to Exit:3\n",
      "Enter the integer Press 0 to Exit:0\n",
      "Average of the numbers in the list are:  2.0\n",
      "Numbers in the list are: [1, 2, 3, 0]\n",
      "Above average numbers in the list: [3]\n",
      "Average numbers in the list: [2]\n",
      "Below average numbers in the list: [0, 1]\n"
     ]
    }
   ],
   "source": [
    "#program that reads numbers from the user until a 0 is entered.\n",
    "\n",
    "def Average():\n",
    "    count = 0\n",
    "    sum = 0\n",
    "    num = 1\n",
    "    list0=[]\n",
    "    aboveavg=[]\n",
    "    belowavg=[]\n",
    "    avg=[]\n",
    "\n",
    "    while num != 0:\n",
    "        num = int(input('Enter the integer Press 0 to Exit:'))\n",
    "        sum += num\n",
    "        count += 1\n",
    "        list0.append(num)\n",
    "\n",
    "    if count == 1:\n",
    "        print(\"Enter some numbers to calculate average:\")\n",
    "    else:\n",
    "        average = sum / (count - 1)\n",
    "        print(\"Average of the numbers in the list are: \", average)\n",
    "        print('Numbers in the list are:',list0)\n",
    "        list0.sort()\n",
    "        #print(list0)\n",
    "        for x in range(len(list0)):\n",
    "            if x>average:\n",
    "                aboveavg.append(x)\n",
    "            elif x==average:\n",
    "                avg.append(x)\n",
    "                \n",
    "            else:\n",
    "                belowavg.append(x)\n",
    "                \n",
    "        print('Above average numbers in the list:',aboveavg)\n",
    "        print('Average numbers in the list:',avg)\n",
    "        print('Below average numbers in the list:',belowavg)\n",
    "        \n",
    "        \n",
    "        \n",
    "            \n",
    "    return\n",
    "\n",
    "Average()\n"
   ]
  },
  {
   "cell_type": "code",
   "execution_count": 32,
   "id": "02361ff6",
   "metadata": {},
   "outputs": [
    {
     "name": "stdout",
     "output_type": "stream",
     "text": [
      "Enter the values to map the key:113\n"
     ]
    },
    {
     "data": {
      "text/plain": [
       "'Machine Learning'"
      ]
     },
     "execution_count": 32,
     "metadata": {},
     "output_type": "execute_result"
    }
   ],
   "source": [
    "#program that finds all of the keys in a dictionary that map to a specific value.\n",
    "\n",
    "def get_key():\n",
    "    my_dict ={\"Skill_lync\":100, \"DADS\":112, \"Python\":111,\"Machine Learning\":113}\n",
    "    val=int(input('Enter the values to map the key:'))\n",
    "    for key, value in my_dict.items():\n",
    "         if val == value:\n",
    "             return key\n",
    " \n",
    "    return \"key doesn't exist\"\n",
    "\n",
    "get_key()\n"
   ]
  },
  {
   "cell_type": "code",
   "execution_count": null,
   "id": "fdeeb3c1",
   "metadata": {},
   "outputs": [],
   "source": []
  }
 ],
 "metadata": {
  "kernelspec": {
   "display_name": "Python 3 (ipykernel)",
   "language": "python",
   "name": "python3"
  },
  "language_info": {
   "codemirror_mode": {
    "name": "ipython",
    "version": 3
   },
   "file_extension": ".py",
   "mimetype": "text/x-python",
   "name": "python",
   "nbconvert_exporter": "python",
   "pygments_lexer": "ipython3",
   "version": "3.9.7"
  }
 },
 "nbformat": 4,
 "nbformat_minor": 5
}
